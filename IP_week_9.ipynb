{
  "nbformat": 4,
  "nbformat_minor": 0,
  "metadata": {
    "colab": {
      "name": "IP week 9",
      "provenance": [],
      "collapsed_sections": [
        "Xj1D18ifZThj"
      ],
      "toc_visible": true
    },
    "kernelspec": {
      "name": "python3",
      "display_name": "Python 3"
    },
    "language_info": {
      "name": "python"
    }
  },
  "cells": [
    {
      "cell_type": "markdown",
      "source": [
        "## Defining the question"
      ],
      "metadata": {
        "id": "Kc-Wf3F-38yT"
      }
    },
    {
      "cell_type": "markdown",
      "source": [
        "### Specifying the Data Analytic Question"
      ],
      "metadata": {
        "id": "SxGrOlnjm6gg"
      }
    },
    {
      "cell_type": "markdown",
      "source": [
        "The aim of this project is to implement a K-nearest neighbour (KNN) classifier on the titanic dataset and optimizing the model"
      ],
      "metadata": {
        "id": "xyouEPge2Ah0"
      }
    },
    {
      "cell_type": "markdown",
      "source": [
        " ### Defining the Metric for Success"
      ],
      "metadata": {
        "id": "i5arjihznD1m"
      }
    },
    {
      "cell_type": "markdown",
      "source": [
        "Following performance metrics are used to analyze the \n",
        "performance of KNN classifier models using different quantities of data to train it.\n",
        "\n",
        "1. **Precision**: It is used to measures the classifier exactness. It is \n",
        "also known as positive predictive value (PPV). \n",
        "\n",
        "2. **Recall**: It measures the classifier completeness. It is also known \n",
        "as sensitivity or hit rate, or true positive rate (TPR). \n",
        "Specificity: It measures the proportion of actual negatives that \n",
        "are correctly identified and also called a true negative rate \n",
        "(TNR). \n",
        "\n",
        "3. **Accuracy**: It measures the fraction of predictions our model got \n",
        "right. It can be calculated as the total number of correct \n",
        "predictions divided by the total number of test cases. \n",
        "\n",
        "4. **F1-Score**: It measures the balance between precision and recall. \n"
      ],
      "metadata": {
        "id": "mbllwj_621ZQ"
      }
    },
    {
      "cell_type": "markdown",
      "source": [
        "### Understanding context"
      ],
      "metadata": {
        "id": "qK-R47emnEtp"
      }
    },
    {
      "cell_type": "markdown",
      "source": [
        "KNN is one of the simplest algorithms and is widely used in predictive analysis. The ammount of data used to train the dataset affects the accuracy of the classifier. \n",
        "\n",
        "The hyperparameters used in the sklearning model of a KNN classifier affects the quality of the predictions. Here I shall aim to explore the performances of the model using different percentages of data in the train and different values of n-neighbours"
      ],
      "metadata": {
        "id": "wB_5kMoH3OuG"
      }
    },
    {
      "cell_type": "markdown",
      "source": [
        "### Recoriding Experimental design"
      ],
      "metadata": {
        "id": "5Mu7kTRSnYFQ"
      }
    },
    {
      "cell_type": "markdown",
      "source": [
        "The following are the steps that were taken in finding the best KNN model to predict the fate of a passenger in the titanic:\n",
        "1. Importing necessary libraries\n",
        "2. Loading the dataset using pandas kibrary\n",
        "3. Checking dataset validity- this was done by \n",
        "4. Previewing the datasets- Checking column information, shape, column names, and previewing the first and last five records\n",
        "5. Tidying the dataset - This included a certain number of steps to remove invalid data and deal with other anomalies. They included:\n",
        "  - Checking if columns were appropiately named and renaming them appropiately\n",
        "  - Checking for missing values in the data frame and imputing them appropiately. Cabin column with numerous missing records (over 50%) was drop\n",
        "  and missing records in age column imputed using the median age of the title in which they belonged. The misssing values in embarked was imputed with the most common record in that attribute\n",
        "  - The dataset was explored for duplicates and none were found\n",
        "  - Outliers were explored in the feature age. Some outliers were found though were not dropped or imputed since they fell in a realistic human age bracket.\n",
        "6. Exploratory data analysis was performed on the dataset which entailed univariate, bivariate analysis and feature selection step to drop irrelevant attributes for subsequent modelling.\n",
        "7. The dataset was then encoded using a label encoder due to the few number of categorical features in the encoded columns\n",
        "8. Implementing the solution taken in three steps\n",
        "  - A knn model created using 80% of titanic data in the train set, and using different (1-75) to find n_neighbour with least error rate \n",
        "  - A knn model created using 70% of titanic data in the train set, and using different (1-75) to find n_neighbour with least error rate \n",
        "  - A knn model created using 60% of titanic data in the train set, and using different (1-75) to find n_neighbour with least error rate \n",
        "\n",
        "The model performances metrics were scored and compared to obtain best performing model\n",
        "\n",
        "9. The solution was challenged by emplyoing a random forest classifier. The performance metrics of this model was compared to that of the best KNN model\n",
        "10. A conlusion was arrived at on the best knn model for this task and results of it's comparison with another classifier model\n",
        "11. Follow questions were addressed"
      ],
      "metadata": {
        "id": "J76xsAN74q9m"
      }
    },
    {
      "cell_type": "markdown",
      "source": [
        "### Data relevance"
      ],
      "metadata": {
        "id": "8UBngTdeojiK"
      }
    },
    {
      "cell_type": "markdown",
      "source": [
        "The following is a description of the attributes in the titatanic dataset:\n",
        "1. PassengerID- passenger record unique identifier in the dataset \n",
        "2. Pclass- Passenger Class (1 = 1st; 2 = 2nd; 3 = 3rd)\n",
        "3. survival-  Survival (0 = No; 1 = Yes)\n",
        "4. Name- Name of passenger\n",
        "5. Sex- Sex of passenger (M- male, F-Female)\n",
        "6. Age- Age of passenger\n",
        "7. Sibsp- Number of Siblings/Spouses Aboard\n",
        "8. Parch -Number of Parents/Children Aboard\n",
        "9. Ticket Ticket Number\n",
        "10. Fare- Passenger Fare (British pound)\n",
        "11. Cabin- Cabin\n",
        "12. Embarked Port of Embarkation (C = Cherbourg; Q = Queenstown; S = Southampton)\n",
        "\n",
        "**SPECIAL NOTES**\n",
        "- Pclass is a proxy for socio-economic status (SES)\n",
        "1st ~ Upper; 2nd ~ Middle; 3rd ~ Lower\n",
        "- Age is in Years; Fractional if Age less than One (1)\n",
        "If the Age is estimated, it is in the form xx.5\n",
        "- Fare is in Pre-1970 British Pounds ()\n",
        "Conversion Factors: 1 = 12s = 240d and 1s = 20d"
      ],
      "metadata": {
        "id": "xKEvAbh7-1Yg"
      }
    },
    {
      "cell_type": "markdown",
      "source": [
        "## Importing Libraries"
      ],
      "metadata": {
        "id": "rKz7Oee9pTPc"
      }
    },
    {
      "cell_type": "code",
      "source": [
        "# Importing pandas\n",
        "import pandas as pd\n",
        "\n",
        "# Importing numpy\n",
        "import numpy as np\n",
        "\n",
        "# Importing matplotlib\n",
        "import matplotlib.pyplot as plt\n",
        "\n",
        "# Importing seaborn\n",
        "import seaborn as sns\n",
        "\n",
        "# Importing datetime\n",
        "import datetime\n",
        "\n",
        "# Importing scipy.stats\n",
        "import scipy.stats as stats\n",
        "\n",
        "# Importing scipy\n",
        "import scipy as sp\n",
        "\n",
        "# Importing labelencoder from sklearn preprocessing\n",
        "from sklearn.preprocessing import LabelEncoder\n",
        "\n",
        "# Importing train test split from sklearn model selection library\n",
        "from sklearn.model_selection import train_test_split\n",
        "\n",
        "# importing standardscalar from sklearn preprocessing library\n",
        "from sklearn.preprocessing import StandardScaler\n",
        "\n",
        "# Importing KNeighborsClassifier from sklearn neighbors library\n",
        "from sklearn.neighbors import KNeighborsClassifier\n",
        "\n",
        "# importing random forest classifier from sklearn\n",
        "from sklearn.ensemble import RandomForestClassifier"
      ],
      "metadata": {
        "id": "3pMnV69YpXT2"
      },
      "execution_count": 93,
      "outputs": []
    },
    {
      "cell_type": "markdown",
      "source": [
        "## Loading datasets"
      ],
      "metadata": {
        "id": "plCcOl_EonPq"
      }
    },
    {
      "cell_type": "code",
      "execution_count": 24,
      "metadata": {
        "id": "vx2up7SmQgSn"
      },
      "outputs": [],
      "source": [
        "# Loading the training dataset\n",
        "titanic_df = pd.read_csv('https://archive.org/download/train5_202002/train%20%285%29.csv')"
      ]
    },
    {
      "cell_type": "markdown",
      "source": [
        "## Previewing the datasets"
      ],
      "metadata": {
        "id": "v64_bFtlqe3U"
      }
    },
    {
      "cell_type": "code",
      "source": [
        "# Previewing the first five records of the titanic dataset\n",
        "titanic_df.head()"
      ],
      "metadata": {
        "colab": {
          "base_uri": "https://localhost:8080/",
          "height": 476
        },
        "id": "0712v_tvqj9Q",
        "outputId": "73692c63-9a83-4d1f-bac0-dbe76ed96ca6"
      },
      "execution_count": 25,
      "outputs": [
        {
          "output_type": "execute_result",
          "data": {
            "text/plain": [
              "   PassengerId  Survived  Pclass  \\\n",
              "0            1         0       3   \n",
              "1            2         1       1   \n",
              "2            3         1       3   \n",
              "3            4         1       1   \n",
              "4            5         0       3   \n",
              "\n",
              "                                                Name     Sex   Age  SibSp  \\\n",
              "0                            Braund, Mr. Owen Harris    male  22.0      1   \n",
              "1  Cumings, Mrs. John Bradley (Florence Briggs Th...  female  38.0      1   \n",
              "2                             Heikkinen, Miss. Laina  female  26.0      0   \n",
              "3       Futrelle, Mrs. Jacques Heath (Lily May Peel)  female  35.0      1   \n",
              "4                           Allen, Mr. William Henry    male  35.0      0   \n",
              "\n",
              "   Parch            Ticket     Fare Cabin Embarked  \n",
              "0      0         A/5 21171   7.2500   NaN        S  \n",
              "1      0          PC 17599  71.2833   C85        C  \n",
              "2      0  STON/O2. 3101282   7.9250   NaN        S  \n",
              "3      0            113803  53.1000  C123        S  \n",
              "4      0            373450   8.0500   NaN        S  "
            ],
            "text/html": [
              "\n",
              "  <div id=\"df-b537e9a7-12ce-4323-87f2-9f3593c01ee2\">\n",
              "    <div class=\"colab-df-container\">\n",
              "      <div>\n",
              "<style scoped>\n",
              "    .dataframe tbody tr th:only-of-type {\n",
              "        vertical-align: middle;\n",
              "    }\n",
              "\n",
              "    .dataframe tbody tr th {\n",
              "        vertical-align: top;\n",
              "    }\n",
              "\n",
              "    .dataframe thead th {\n",
              "        text-align: right;\n",
              "    }\n",
              "</style>\n",
              "<table border=\"1\" class=\"dataframe\">\n",
              "  <thead>\n",
              "    <tr style=\"text-align: right;\">\n",
              "      <th></th>\n",
              "      <th>PassengerId</th>\n",
              "      <th>Survived</th>\n",
              "      <th>Pclass</th>\n",
              "      <th>Name</th>\n",
              "      <th>Sex</th>\n",
              "      <th>Age</th>\n",
              "      <th>SibSp</th>\n",
              "      <th>Parch</th>\n",
              "      <th>Ticket</th>\n",
              "      <th>Fare</th>\n",
              "      <th>Cabin</th>\n",
              "      <th>Embarked</th>\n",
              "    </tr>\n",
              "  </thead>\n",
              "  <tbody>\n",
              "    <tr>\n",
              "      <th>0</th>\n",
              "      <td>1</td>\n",
              "      <td>0</td>\n",
              "      <td>3</td>\n",
              "      <td>Braund, Mr. Owen Harris</td>\n",
              "      <td>male</td>\n",
              "      <td>22.0</td>\n",
              "      <td>1</td>\n",
              "      <td>0</td>\n",
              "      <td>A/5 21171</td>\n",
              "      <td>7.2500</td>\n",
              "      <td>NaN</td>\n",
              "      <td>S</td>\n",
              "    </tr>\n",
              "    <tr>\n",
              "      <th>1</th>\n",
              "      <td>2</td>\n",
              "      <td>1</td>\n",
              "      <td>1</td>\n",
              "      <td>Cumings, Mrs. John Bradley (Florence Briggs Th...</td>\n",
              "      <td>female</td>\n",
              "      <td>38.0</td>\n",
              "      <td>1</td>\n",
              "      <td>0</td>\n",
              "      <td>PC 17599</td>\n",
              "      <td>71.2833</td>\n",
              "      <td>C85</td>\n",
              "      <td>C</td>\n",
              "    </tr>\n",
              "    <tr>\n",
              "      <th>2</th>\n",
              "      <td>3</td>\n",
              "      <td>1</td>\n",
              "      <td>3</td>\n",
              "      <td>Heikkinen, Miss. Laina</td>\n",
              "      <td>female</td>\n",
              "      <td>26.0</td>\n",
              "      <td>0</td>\n",
              "      <td>0</td>\n",
              "      <td>STON/O2. 3101282</td>\n",
              "      <td>7.9250</td>\n",
              "      <td>NaN</td>\n",
              "      <td>S</td>\n",
              "    </tr>\n",
              "    <tr>\n",
              "      <th>3</th>\n",
              "      <td>4</td>\n",
              "      <td>1</td>\n",
              "      <td>1</td>\n",
              "      <td>Futrelle, Mrs. Jacques Heath (Lily May Peel)</td>\n",
              "      <td>female</td>\n",
              "      <td>35.0</td>\n",
              "      <td>1</td>\n",
              "      <td>0</td>\n",
              "      <td>113803</td>\n",
              "      <td>53.1000</td>\n",
              "      <td>C123</td>\n",
              "      <td>S</td>\n",
              "    </tr>\n",
              "    <tr>\n",
              "      <th>4</th>\n",
              "      <td>5</td>\n",
              "      <td>0</td>\n",
              "      <td>3</td>\n",
              "      <td>Allen, Mr. William Henry</td>\n",
              "      <td>male</td>\n",
              "      <td>35.0</td>\n",
              "      <td>0</td>\n",
              "      <td>0</td>\n",
              "      <td>373450</td>\n",
              "      <td>8.0500</td>\n",
              "      <td>NaN</td>\n",
              "      <td>S</td>\n",
              "    </tr>\n",
              "  </tbody>\n",
              "</table>\n",
              "</div>\n",
              "      <button class=\"colab-df-convert\" onclick=\"convertToInteractive('df-b537e9a7-12ce-4323-87f2-9f3593c01ee2')\"\n",
              "              title=\"Convert this dataframe to an interactive table.\"\n",
              "              style=\"display:none;\">\n",
              "        \n",
              "  <svg xmlns=\"http://www.w3.org/2000/svg\" height=\"24px\"viewBox=\"0 0 24 24\"\n",
              "       width=\"24px\">\n",
              "    <path d=\"M0 0h24v24H0V0z\" fill=\"none\"/>\n",
              "    <path d=\"M18.56 5.44l.94 2.06.94-2.06 2.06-.94-2.06-.94-.94-2.06-.94 2.06-2.06.94zm-11 1L8.5 8.5l.94-2.06 2.06-.94-2.06-.94L8.5 2.5l-.94 2.06-2.06.94zm10 10l.94 2.06.94-2.06 2.06-.94-2.06-.94-.94-2.06-.94 2.06-2.06.94z\"/><path d=\"M17.41 7.96l-1.37-1.37c-.4-.4-.92-.59-1.43-.59-.52 0-1.04.2-1.43.59L10.3 9.45l-7.72 7.72c-.78.78-.78 2.05 0 2.83L4 21.41c.39.39.9.59 1.41.59.51 0 1.02-.2 1.41-.59l7.78-7.78 2.81-2.81c.8-.78.8-2.07 0-2.86zM5.41 20L4 18.59l7.72-7.72 1.47 1.35L5.41 20z\"/>\n",
              "  </svg>\n",
              "      </button>\n",
              "      \n",
              "  <style>\n",
              "    .colab-df-container {\n",
              "      display:flex;\n",
              "      flex-wrap:wrap;\n",
              "      gap: 12px;\n",
              "    }\n",
              "\n",
              "    .colab-df-convert {\n",
              "      background-color: #E8F0FE;\n",
              "      border: none;\n",
              "      border-radius: 50%;\n",
              "      cursor: pointer;\n",
              "      display: none;\n",
              "      fill: #1967D2;\n",
              "      height: 32px;\n",
              "      padding: 0 0 0 0;\n",
              "      width: 32px;\n",
              "    }\n",
              "\n",
              "    .colab-df-convert:hover {\n",
              "      background-color: #E2EBFA;\n",
              "      box-shadow: 0px 1px 2px rgba(60, 64, 67, 0.3), 0px 1px 3px 1px rgba(60, 64, 67, 0.15);\n",
              "      fill: #174EA6;\n",
              "    }\n",
              "\n",
              "    [theme=dark] .colab-df-convert {\n",
              "      background-color: #3B4455;\n",
              "      fill: #D2E3FC;\n",
              "    }\n",
              "\n",
              "    [theme=dark] .colab-df-convert:hover {\n",
              "      background-color: #434B5C;\n",
              "      box-shadow: 0px 1px 3px 1px rgba(0, 0, 0, 0.15);\n",
              "      filter: drop-shadow(0px 1px 2px rgba(0, 0, 0, 0.3));\n",
              "      fill: #FFFFFF;\n",
              "    }\n",
              "  </style>\n",
              "\n",
              "      <script>\n",
              "        const buttonEl =\n",
              "          document.querySelector('#df-b537e9a7-12ce-4323-87f2-9f3593c01ee2 button.colab-df-convert');\n",
              "        buttonEl.style.display =\n",
              "          google.colab.kernel.accessAllowed ? 'block' : 'none';\n",
              "\n",
              "        async function convertToInteractive(key) {\n",
              "          const element = document.querySelector('#df-b537e9a7-12ce-4323-87f2-9f3593c01ee2');\n",
              "          const dataTable =\n",
              "            await google.colab.kernel.invokeFunction('convertToInteractive',\n",
              "                                                     [key], {});\n",
              "          if (!dataTable) return;\n",
              "\n",
              "          const docLinkHtml = 'Like what you see? Visit the ' +\n",
              "            '<a target=\"_blank\" href=https://colab.research.google.com/notebooks/data_table.ipynb>data table notebook</a>'\n",
              "            + ' to learn more about interactive tables.';\n",
              "          element.innerHTML = '';\n",
              "          dataTable['output_type'] = 'display_data';\n",
              "          await google.colab.output.renderOutput(dataTable, element);\n",
              "          const docLink = document.createElement('div');\n",
              "          docLink.innerHTML = docLinkHtml;\n",
              "          element.appendChild(docLink);\n",
              "        }\n",
              "      </script>\n",
              "    </div>\n",
              "  </div>\n",
              "  "
            ]
          },
          "metadata": {},
          "execution_count": 25
        }
      ]
    },
    {
      "cell_type": "code",
      "source": [
        "# Previewing the last five records of the titanic dataset\n",
        "titanic_df.tail()"
      ],
      "metadata": {
        "colab": {
          "base_uri": "https://localhost:8080/",
          "height": 406
        },
        "id": "PT2J2mpiq2-Q",
        "outputId": "af9d9fe7-40bc-4f35-c519-8a9f4573f55e"
      },
      "execution_count": 26,
      "outputs": [
        {
          "output_type": "execute_result",
          "data": {
            "text/plain": [
              "     PassengerId  Survived  Pclass                                      Name  \\\n",
              "886          887         0       2                     Montvila, Rev. Juozas   \n",
              "887          888         1       1              Graham, Miss. Margaret Edith   \n",
              "888          889         0       3  Johnston, Miss. Catherine Helen \"Carrie\"   \n",
              "889          890         1       1                     Behr, Mr. Karl Howell   \n",
              "890          891         0       3                       Dooley, Mr. Patrick   \n",
              "\n",
              "        Sex   Age  SibSp  Parch      Ticket   Fare Cabin Embarked  \n",
              "886    male  27.0      0      0      211536  13.00   NaN        S  \n",
              "887  female  19.0      0      0      112053  30.00   B42        S  \n",
              "888  female   NaN      1      2  W./C. 6607  23.45   NaN        S  \n",
              "889    male  26.0      0      0      111369  30.00  C148        C  \n",
              "890    male  32.0      0      0      370376   7.75   NaN        Q  "
            ],
            "text/html": [
              "\n",
              "  <div id=\"df-d49ec596-6247-410c-9c4d-5616ce1ed4e4\">\n",
              "    <div class=\"colab-df-container\">\n",
              "      <div>\n",
              "<style scoped>\n",
              "    .dataframe tbody tr th:only-of-type {\n",
              "        vertical-align: middle;\n",
              "    }\n",
              "\n",
              "    .dataframe tbody tr th {\n",
              "        vertical-align: top;\n",
              "    }\n",
              "\n",
              "    .dataframe thead th {\n",
              "        text-align: right;\n",
              "    }\n",
              "</style>\n",
              "<table border=\"1\" class=\"dataframe\">\n",
              "  <thead>\n",
              "    <tr style=\"text-align: right;\">\n",
              "      <th></th>\n",
              "      <th>PassengerId</th>\n",
              "      <th>Survived</th>\n",
              "      <th>Pclass</th>\n",
              "      <th>Name</th>\n",
              "      <th>Sex</th>\n",
              "      <th>Age</th>\n",
              "      <th>SibSp</th>\n",
              "      <th>Parch</th>\n",
              "      <th>Ticket</th>\n",
              "      <th>Fare</th>\n",
              "      <th>Cabin</th>\n",
              "      <th>Embarked</th>\n",
              "    </tr>\n",
              "  </thead>\n",
              "  <tbody>\n",
              "    <tr>\n",
              "      <th>886</th>\n",
              "      <td>887</td>\n",
              "      <td>0</td>\n",
              "      <td>2</td>\n",
              "      <td>Montvila, Rev. Juozas</td>\n",
              "      <td>male</td>\n",
              "      <td>27.0</td>\n",
              "      <td>0</td>\n",
              "      <td>0</td>\n",
              "      <td>211536</td>\n",
              "      <td>13.00</td>\n",
              "      <td>NaN</td>\n",
              "      <td>S</td>\n",
              "    </tr>\n",
              "    <tr>\n",
              "      <th>887</th>\n",
              "      <td>888</td>\n",
              "      <td>1</td>\n",
              "      <td>1</td>\n",
              "      <td>Graham, Miss. Margaret Edith</td>\n",
              "      <td>female</td>\n",
              "      <td>19.0</td>\n",
              "      <td>0</td>\n",
              "      <td>0</td>\n",
              "      <td>112053</td>\n",
              "      <td>30.00</td>\n",
              "      <td>B42</td>\n",
              "      <td>S</td>\n",
              "    </tr>\n",
              "    <tr>\n",
              "      <th>888</th>\n",
              "      <td>889</td>\n",
              "      <td>0</td>\n",
              "      <td>3</td>\n",
              "      <td>Johnston, Miss. Catherine Helen \"Carrie\"</td>\n",
              "      <td>female</td>\n",
              "      <td>NaN</td>\n",
              "      <td>1</td>\n",
              "      <td>2</td>\n",
              "      <td>W./C. 6607</td>\n",
              "      <td>23.45</td>\n",
              "      <td>NaN</td>\n",
              "      <td>S</td>\n",
              "    </tr>\n",
              "    <tr>\n",
              "      <th>889</th>\n",
              "      <td>890</td>\n",
              "      <td>1</td>\n",
              "      <td>1</td>\n",
              "      <td>Behr, Mr. Karl Howell</td>\n",
              "      <td>male</td>\n",
              "      <td>26.0</td>\n",
              "      <td>0</td>\n",
              "      <td>0</td>\n",
              "      <td>111369</td>\n",
              "      <td>30.00</td>\n",
              "      <td>C148</td>\n",
              "      <td>C</td>\n",
              "    </tr>\n",
              "    <tr>\n",
              "      <th>890</th>\n",
              "      <td>891</td>\n",
              "      <td>0</td>\n",
              "      <td>3</td>\n",
              "      <td>Dooley, Mr. Patrick</td>\n",
              "      <td>male</td>\n",
              "      <td>32.0</td>\n",
              "      <td>0</td>\n",
              "      <td>0</td>\n",
              "      <td>370376</td>\n",
              "      <td>7.75</td>\n",
              "      <td>NaN</td>\n",
              "      <td>Q</td>\n",
              "    </tr>\n",
              "  </tbody>\n",
              "</table>\n",
              "</div>\n",
              "      <button class=\"colab-df-convert\" onclick=\"convertToInteractive('df-d49ec596-6247-410c-9c4d-5616ce1ed4e4')\"\n",
              "              title=\"Convert this dataframe to an interactive table.\"\n",
              "              style=\"display:none;\">\n",
              "        \n",
              "  <svg xmlns=\"http://www.w3.org/2000/svg\" height=\"24px\"viewBox=\"0 0 24 24\"\n",
              "       width=\"24px\">\n",
              "    <path d=\"M0 0h24v24H0V0z\" fill=\"none\"/>\n",
              "    <path d=\"M18.56 5.44l.94 2.06.94-2.06 2.06-.94-2.06-.94-.94-2.06-.94 2.06-2.06.94zm-11 1L8.5 8.5l.94-2.06 2.06-.94-2.06-.94L8.5 2.5l-.94 2.06-2.06.94zm10 10l.94 2.06.94-2.06 2.06-.94-2.06-.94-.94-2.06-.94 2.06-2.06.94z\"/><path d=\"M17.41 7.96l-1.37-1.37c-.4-.4-.92-.59-1.43-.59-.52 0-1.04.2-1.43.59L10.3 9.45l-7.72 7.72c-.78.78-.78 2.05 0 2.83L4 21.41c.39.39.9.59 1.41.59.51 0 1.02-.2 1.41-.59l7.78-7.78 2.81-2.81c.8-.78.8-2.07 0-2.86zM5.41 20L4 18.59l7.72-7.72 1.47 1.35L5.41 20z\"/>\n",
              "  </svg>\n",
              "      </button>\n",
              "      \n",
              "  <style>\n",
              "    .colab-df-container {\n",
              "      display:flex;\n",
              "      flex-wrap:wrap;\n",
              "      gap: 12px;\n",
              "    }\n",
              "\n",
              "    .colab-df-convert {\n",
              "      background-color: #E8F0FE;\n",
              "      border: none;\n",
              "      border-radius: 50%;\n",
              "      cursor: pointer;\n",
              "      display: none;\n",
              "      fill: #1967D2;\n",
              "      height: 32px;\n",
              "      padding: 0 0 0 0;\n",
              "      width: 32px;\n",
              "    }\n",
              "\n",
              "    .colab-df-convert:hover {\n",
              "      background-color: #E2EBFA;\n",
              "      box-shadow: 0px 1px 2px rgba(60, 64, 67, 0.3), 0px 1px 3px 1px rgba(60, 64, 67, 0.15);\n",
              "      fill: #174EA6;\n",
              "    }\n",
              "\n",
              "    [theme=dark] .colab-df-convert {\n",
              "      background-color: #3B4455;\n",
              "      fill: #D2E3FC;\n",
              "    }\n",
              "\n",
              "    [theme=dark] .colab-df-convert:hover {\n",
              "      background-color: #434B5C;\n",
              "      box-shadow: 0px 1px 3px 1px rgba(0, 0, 0, 0.15);\n",
              "      filter: drop-shadow(0px 1px 2px rgba(0, 0, 0, 0.3));\n",
              "      fill: #FFFFFF;\n",
              "    }\n",
              "  </style>\n",
              "\n",
              "      <script>\n",
              "        const buttonEl =\n",
              "          document.querySelector('#df-d49ec596-6247-410c-9c4d-5616ce1ed4e4 button.colab-df-convert');\n",
              "        buttonEl.style.display =\n",
              "          google.colab.kernel.accessAllowed ? 'block' : 'none';\n",
              "\n",
              "        async function convertToInteractive(key) {\n",
              "          const element = document.querySelector('#df-d49ec596-6247-410c-9c4d-5616ce1ed4e4');\n",
              "          const dataTable =\n",
              "            await google.colab.kernel.invokeFunction('convertToInteractive',\n",
              "                                                     [key], {});\n",
              "          if (!dataTable) return;\n",
              "\n",
              "          const docLinkHtml = 'Like what you see? Visit the ' +\n",
              "            '<a target=\"_blank\" href=https://colab.research.google.com/notebooks/data_table.ipynb>data table notebook</a>'\n",
              "            + ' to learn more about interactive tables.';\n",
              "          element.innerHTML = '';\n",
              "          dataTable['output_type'] = 'display_data';\n",
              "          await google.colab.output.renderOutput(dataTable, element);\n",
              "          const docLink = document.createElement('div');\n",
              "          docLink.innerHTML = docLinkHtml;\n",
              "          element.appendChild(docLink);\n",
              "        }\n",
              "      </script>\n",
              "    </div>\n",
              "  </div>\n",
              "  "
            ]
          },
          "metadata": {},
          "execution_count": 26
        }
      ]
    },
    {
      "cell_type": "code",
      "source": [
        "# Previewing the shape(rows and columns) of the titanic dataset\n",
        "\n",
        "rows, columns = titanic_df.shape\n",
        "\n",
        "# Printing out the number of rows and columns in the titanic dataset\n",
        "print(f'The titanic dataset has {rows} rows, and {columns} columns')"
      ],
      "metadata": {
        "colab": {
          "base_uri": "https://localhost:8080/"
        },
        "id": "E6LaKa97rKu2",
        "outputId": "358e9ace-6163-4051-922d-d3ffb6d69838"
      },
      "execution_count": 27,
      "outputs": [
        {
          "output_type": "stream",
          "name": "stdout",
          "text": [
            "The titanic dataset has 891 rows, and 12 columns\n"
          ]
        }
      ]
    },
    {
      "cell_type": "code",
      "source": [
        "# Previewing column information in the titanic dataframe\n",
        "titanic_df.info()"
      ],
      "metadata": {
        "colab": {
          "base_uri": "https://localhost:8080/"
        },
        "id": "xlke2VnTr2ao",
        "outputId": "37d7b196-e7f0-4abf-c118-f570f450f1ab"
      },
      "execution_count": 28,
      "outputs": [
        {
          "output_type": "stream",
          "name": "stdout",
          "text": [
            "<class 'pandas.core.frame.DataFrame'>\n",
            "RangeIndex: 891 entries, 0 to 890\n",
            "Data columns (total 12 columns):\n",
            " #   Column       Non-Null Count  Dtype  \n",
            "---  ------       --------------  -----  \n",
            " 0   PassengerId  891 non-null    int64  \n",
            " 1   Survived     891 non-null    int64  \n",
            " 2   Pclass       891 non-null    int64  \n",
            " 3   Name         891 non-null    object \n",
            " 4   Sex          891 non-null    object \n",
            " 5   Age          714 non-null    float64\n",
            " 6   SibSp        891 non-null    int64  \n",
            " 7   Parch        891 non-null    int64  \n",
            " 8   Ticket       891 non-null    object \n",
            " 9   Fare         891 non-null    float64\n",
            " 10  Cabin        204 non-null    object \n",
            " 11  Embarked     889 non-null    object \n",
            "dtypes: float64(2), int64(5), object(5)\n",
            "memory usage: 83.7+ KB\n"
          ]
        }
      ]
    },
    {
      "cell_type": "markdown",
      "source": [
        "The  dataset has float, integer and object data types"
      ],
      "metadata": {
        "id": "wTj4BPzksMSW"
      }
    },
    {
      "cell_type": "markdown",
      "source": [
        "## Tidying the training dataset"
      ],
      "metadata": {
        "id": "UcS6lm7bslkM"
      }
    },
    {
      "cell_type": "markdown",
      "source": [
        "### Check for validity"
      ],
      "metadata": {
        "id": "ZjKg4ETSsq-U"
      }
    },
    {
      "cell_type": "code",
      "source": [
        "# previewing the column names of the titanic dataset\n",
        "titanic_df.columns"
      ],
      "metadata": {
        "colab": {
          "base_uri": "https://localhost:8080/"
        },
        "id": "rpRVblrmsj58",
        "outputId": "d1ef8ee2-b027-4673-9a91-b5c0f6c252ee"
      },
      "execution_count": 29,
      "outputs": [
        {
          "output_type": "execute_result",
          "data": {
            "text/plain": [
              "Index(['PassengerId', 'Survived', 'Pclass', 'Name', 'Sex', 'Age', 'SibSp',\n",
              "       'Parch', 'Ticket', 'Fare', 'Cabin', 'Embarked'],\n",
              "      dtype='object')"
            ]
          },
          "metadata": {},
          "execution_count": 29
        }
      ]
    },
    {
      "cell_type": "markdown",
      "source": [
        "All columns have appropiate datatypes but columns are not appropiately named"
      ],
      "metadata": {
        "id": "KRDEMiFctFGk"
      }
    },
    {
      "cell_type": "code",
      "source": [
        "# Renaming the columns of the titanic dataset\n",
        "titanic_df.columns = ['passengerid', 'survived', 'pclass', 'name', 'sex', 'age', 'sibsp',\n",
        "       'parch', 'ticket', 'fare', 'cabin', 'embarked']"
      ],
      "metadata": {
        "id": "d-DDAkyAtfCg"
      },
      "execution_count": 30,
      "outputs": []
    },
    {
      "cell_type": "code",
      "source": [
        "# Previewing column names after renaming\n",
        "titanic_df.columns"
      ],
      "metadata": {
        "colab": {
          "base_uri": "https://localhost:8080/"
        },
        "id": "RZRPa0Qlt8F0",
        "outputId": "c3e23e11-d9e1-4c38-a248-c431df1a66e1"
      },
      "execution_count": 31,
      "outputs": [
        {
          "output_type": "execute_result",
          "data": {
            "text/plain": [
              "Index(['passengerid', 'survived', 'pclass', 'name', 'sex', 'age', 'sibsp',\n",
              "       'parch', 'ticket', 'fare', 'cabin', 'embarked'],\n",
              "      dtype='object')"
            ]
          },
          "metadata": {},
          "execution_count": 31
        }
      ]
    },
    {
      "cell_type": "markdown",
      "source": [
        "All columns have been appropiately renamed"
      ],
      "metadata": {
        "id": "0rC6n5RluERm"
      }
    },
    {
      "cell_type": "markdown",
      "source": [
        "### Missing values"
      ],
      "metadata": {
        "id": "gtQGAzinuKfQ"
      }
    },
    {
      "cell_type": "code",
      "source": [
        "# Checking for missing values in the titanic set\n",
        "titanic_df.isnull().sum()"
      ],
      "metadata": {
        "colab": {
          "base_uri": "https://localhost:8080/"
        },
        "id": "sznvfLOsuIVN",
        "outputId": "f0a72eb5-547a-4496-b693-fa9c1062b265"
      },
      "execution_count": 32,
      "outputs": [
        {
          "output_type": "execute_result",
          "data": {
            "text/plain": [
              "passengerid      0\n",
              "survived         0\n",
              "pclass           0\n",
              "name             0\n",
              "sex              0\n",
              "age            177\n",
              "sibsp            0\n",
              "parch            0\n",
              "ticket           0\n",
              "fare             0\n",
              "cabin          687\n",
              "embarked         2\n",
              "dtype: int64"
            ]
          },
          "metadata": {},
          "execution_count": 32
        }
      ]
    },
    {
      "cell_type": "markdown",
      "source": [
        "Three features had missing values:\n",
        "  - age            177\n",
        "  - cabin          687\n",
        "  - embarked         2"
      ],
      "metadata": {
        "id": "aBvajP07vDrU"
      }
    },
    {
      "cell_type": "code",
      "source": [
        "# Checking for the percentage of missing values in the titanic set relative to the entire dataframe\n",
        "titanic_df.isnull().sum() / len(titanic_df)"
      ],
      "metadata": {
        "colab": {
          "base_uri": "https://localhost:8080/"
        },
        "id": "QOoWzQxXufwj",
        "outputId": "df8272c8-80dd-476b-b752-375cc9276708"
      },
      "execution_count": 33,
      "outputs": [
        {
          "output_type": "execute_result",
          "data": {
            "text/plain": [
              "passengerid    0.000000\n",
              "survived       0.000000\n",
              "pclass         0.000000\n",
              "name           0.000000\n",
              "sex            0.000000\n",
              "age            0.198653\n",
              "sibsp          0.000000\n",
              "parch          0.000000\n",
              "ticket         0.000000\n",
              "fare           0.000000\n",
              "cabin          0.771044\n",
              "embarked       0.002245\n",
              "dtype: float64"
            ]
          },
          "metadata": {},
          "execution_count": 33
        }
      ]
    },
    {
      "cell_type": "markdown",
      "source": [
        "The cabin feature in the titanic dataframe had over 50% of its records missing. This column shall be dropped"
      ],
      "metadata": {
        "id": "WIrMzS2UuaYX"
      }
    },
    {
      "cell_type": "code",
      "source": [
        "# Dropping the cabin column from the titanic dataset\n",
        "titanic_df = titanic_df.drop(columns = ['cabin'], axis = 1)\n",
        "\n",
        "# Previewing the columns in the titanic set after dropping cabin column\n",
        "titanic_df.columns"
      ],
      "metadata": {
        "colab": {
          "base_uri": "https://localhost:8080/"
        },
        "id": "6Fzj-2rovctJ",
        "outputId": "84b35b96-de53-4d85-e661-8e15871fbc4c"
      },
      "execution_count": 34,
      "outputs": [
        {
          "output_type": "execute_result",
          "data": {
            "text/plain": [
              "Index(['passengerid', 'survived', 'pclass', 'name', 'sex', 'age', 'sibsp',\n",
              "       'parch', 'ticket', 'fare', 'embarked'],\n",
              "      dtype='object')"
            ]
          },
          "metadata": {},
          "execution_count": 34
        }
      ]
    },
    {
      "cell_type": "markdown",
      "source": [
        "The cabin column has been succesfully dropped. \n",
        "\n",
        "The missing age values shall be imputed through using each passengers name title(Mr, Mrs, Dr, etc.) and giving them the median age value for other passengers with the same title"
      ],
      "metadata": {
        "id": "EdVi69QJwOIu"
      }
    },
    {
      "cell_type": "code",
      "source": [
        "# Creating a title column in the titanic dataset\n",
        "titanic_df['title'] = titanic_df['name'].str.extract('([A-Za-z]+)\\.', expand=True)"
      ],
      "metadata": {
        "id": "0FFGg0VPwS-D"
      },
      "execution_count": 35,
      "outputs": []
    },
    {
      "cell_type": "code",
      "source": [
        "# Previewing the titanic dataset for the newly created column\n",
        "titanic_df.head()"
      ],
      "metadata": {
        "colab": {
          "base_uri": "https://localhost:8080/",
          "height": 0
        },
        "id": "SMoauMGMyphK",
        "outputId": "957979e5-15a4-4da8-b028-91b00d6d3d4b"
      },
      "execution_count": 36,
      "outputs": [
        {
          "output_type": "execute_result",
          "data": {
            "text/plain": [
              "   passengerid  survived  pclass  \\\n",
              "0            1         0       3   \n",
              "1            2         1       1   \n",
              "2            3         1       3   \n",
              "3            4         1       1   \n",
              "4            5         0       3   \n",
              "\n",
              "                                                name     sex   age  sibsp  \\\n",
              "0                            Braund, Mr. Owen Harris    male  22.0      1   \n",
              "1  Cumings, Mrs. John Bradley (Florence Briggs Th...  female  38.0      1   \n",
              "2                             Heikkinen, Miss. Laina  female  26.0      0   \n",
              "3       Futrelle, Mrs. Jacques Heath (Lily May Peel)  female  35.0      1   \n",
              "4                           Allen, Mr. William Henry    male  35.0      0   \n",
              "\n",
              "   parch            ticket     fare embarked title  \n",
              "0      0         A/5 21171   7.2500        S    Mr  \n",
              "1      0          PC 17599  71.2833        C   Mrs  \n",
              "2      0  STON/O2. 3101282   7.9250        S  Miss  \n",
              "3      0            113803  53.1000        S   Mrs  \n",
              "4      0            373450   8.0500        S    Mr  "
            ],
            "text/html": [
              "\n",
              "  <div id=\"df-217518ef-ca18-4cbb-b26a-aa99dadd7467\">\n",
              "    <div class=\"colab-df-container\">\n",
              "      <div>\n",
              "<style scoped>\n",
              "    .dataframe tbody tr th:only-of-type {\n",
              "        vertical-align: middle;\n",
              "    }\n",
              "\n",
              "    .dataframe tbody tr th {\n",
              "        vertical-align: top;\n",
              "    }\n",
              "\n",
              "    .dataframe thead th {\n",
              "        text-align: right;\n",
              "    }\n",
              "</style>\n",
              "<table border=\"1\" class=\"dataframe\">\n",
              "  <thead>\n",
              "    <tr style=\"text-align: right;\">\n",
              "      <th></th>\n",
              "      <th>passengerid</th>\n",
              "      <th>survived</th>\n",
              "      <th>pclass</th>\n",
              "      <th>name</th>\n",
              "      <th>sex</th>\n",
              "      <th>age</th>\n",
              "      <th>sibsp</th>\n",
              "      <th>parch</th>\n",
              "      <th>ticket</th>\n",
              "      <th>fare</th>\n",
              "      <th>embarked</th>\n",
              "      <th>title</th>\n",
              "    </tr>\n",
              "  </thead>\n",
              "  <tbody>\n",
              "    <tr>\n",
              "      <th>0</th>\n",
              "      <td>1</td>\n",
              "      <td>0</td>\n",
              "      <td>3</td>\n",
              "      <td>Braund, Mr. Owen Harris</td>\n",
              "      <td>male</td>\n",
              "      <td>22.0</td>\n",
              "      <td>1</td>\n",
              "      <td>0</td>\n",
              "      <td>A/5 21171</td>\n",
              "      <td>7.2500</td>\n",
              "      <td>S</td>\n",
              "      <td>Mr</td>\n",
              "    </tr>\n",
              "    <tr>\n",
              "      <th>1</th>\n",
              "      <td>2</td>\n",
              "      <td>1</td>\n",
              "      <td>1</td>\n",
              "      <td>Cumings, Mrs. John Bradley (Florence Briggs Th...</td>\n",
              "      <td>female</td>\n",
              "      <td>38.0</td>\n",
              "      <td>1</td>\n",
              "      <td>0</td>\n",
              "      <td>PC 17599</td>\n",
              "      <td>71.2833</td>\n",
              "      <td>C</td>\n",
              "      <td>Mrs</td>\n",
              "    </tr>\n",
              "    <tr>\n",
              "      <th>2</th>\n",
              "      <td>3</td>\n",
              "      <td>1</td>\n",
              "      <td>3</td>\n",
              "      <td>Heikkinen, Miss. Laina</td>\n",
              "      <td>female</td>\n",
              "      <td>26.0</td>\n",
              "      <td>0</td>\n",
              "      <td>0</td>\n",
              "      <td>STON/O2. 3101282</td>\n",
              "      <td>7.9250</td>\n",
              "      <td>S</td>\n",
              "      <td>Miss</td>\n",
              "    </tr>\n",
              "    <tr>\n",
              "      <th>3</th>\n",
              "      <td>4</td>\n",
              "      <td>1</td>\n",
              "      <td>1</td>\n",
              "      <td>Futrelle, Mrs. Jacques Heath (Lily May Peel)</td>\n",
              "      <td>female</td>\n",
              "      <td>35.0</td>\n",
              "      <td>1</td>\n",
              "      <td>0</td>\n",
              "      <td>113803</td>\n",
              "      <td>53.1000</td>\n",
              "      <td>S</td>\n",
              "      <td>Mrs</td>\n",
              "    </tr>\n",
              "    <tr>\n",
              "      <th>4</th>\n",
              "      <td>5</td>\n",
              "      <td>0</td>\n",
              "      <td>3</td>\n",
              "      <td>Allen, Mr. William Henry</td>\n",
              "      <td>male</td>\n",
              "      <td>35.0</td>\n",
              "      <td>0</td>\n",
              "      <td>0</td>\n",
              "      <td>373450</td>\n",
              "      <td>8.0500</td>\n",
              "      <td>S</td>\n",
              "      <td>Mr</td>\n",
              "    </tr>\n",
              "  </tbody>\n",
              "</table>\n",
              "</div>\n",
              "      <button class=\"colab-df-convert\" onclick=\"convertToInteractive('df-217518ef-ca18-4cbb-b26a-aa99dadd7467')\"\n",
              "              title=\"Convert this dataframe to an interactive table.\"\n",
              "              style=\"display:none;\">\n",
              "        \n",
              "  <svg xmlns=\"http://www.w3.org/2000/svg\" height=\"24px\"viewBox=\"0 0 24 24\"\n",
              "       width=\"24px\">\n",
              "    <path d=\"M0 0h24v24H0V0z\" fill=\"none\"/>\n",
              "    <path d=\"M18.56 5.44l.94 2.06.94-2.06 2.06-.94-2.06-.94-.94-2.06-.94 2.06-2.06.94zm-11 1L8.5 8.5l.94-2.06 2.06-.94-2.06-.94L8.5 2.5l-.94 2.06-2.06.94zm10 10l.94 2.06.94-2.06 2.06-.94-2.06-.94-.94-2.06-.94 2.06-2.06.94z\"/><path d=\"M17.41 7.96l-1.37-1.37c-.4-.4-.92-.59-1.43-.59-.52 0-1.04.2-1.43.59L10.3 9.45l-7.72 7.72c-.78.78-.78 2.05 0 2.83L4 21.41c.39.39.9.59 1.41.59.51 0 1.02-.2 1.41-.59l7.78-7.78 2.81-2.81c.8-.78.8-2.07 0-2.86zM5.41 20L4 18.59l7.72-7.72 1.47 1.35L5.41 20z\"/>\n",
              "  </svg>\n",
              "      </button>\n",
              "      \n",
              "  <style>\n",
              "    .colab-df-container {\n",
              "      display:flex;\n",
              "      flex-wrap:wrap;\n",
              "      gap: 12px;\n",
              "    }\n",
              "\n",
              "    .colab-df-convert {\n",
              "      background-color: #E8F0FE;\n",
              "      border: none;\n",
              "      border-radius: 50%;\n",
              "      cursor: pointer;\n",
              "      display: none;\n",
              "      fill: #1967D2;\n",
              "      height: 32px;\n",
              "      padding: 0 0 0 0;\n",
              "      width: 32px;\n",
              "    }\n",
              "\n",
              "    .colab-df-convert:hover {\n",
              "      background-color: #E2EBFA;\n",
              "      box-shadow: 0px 1px 2px rgba(60, 64, 67, 0.3), 0px 1px 3px 1px rgba(60, 64, 67, 0.15);\n",
              "      fill: #174EA6;\n",
              "    }\n",
              "\n",
              "    [theme=dark] .colab-df-convert {\n",
              "      background-color: #3B4455;\n",
              "      fill: #D2E3FC;\n",
              "    }\n",
              "\n",
              "    [theme=dark] .colab-df-convert:hover {\n",
              "      background-color: #434B5C;\n",
              "      box-shadow: 0px 1px 3px 1px rgba(0, 0, 0, 0.15);\n",
              "      filter: drop-shadow(0px 1px 2px rgba(0, 0, 0, 0.3));\n",
              "      fill: #FFFFFF;\n",
              "    }\n",
              "  </style>\n",
              "\n",
              "      <script>\n",
              "        const buttonEl =\n",
              "          document.querySelector('#df-217518ef-ca18-4cbb-b26a-aa99dadd7467 button.colab-df-convert');\n",
              "        buttonEl.style.display =\n",
              "          google.colab.kernel.accessAllowed ? 'block' : 'none';\n",
              "\n",
              "        async function convertToInteractive(key) {\n",
              "          const element = document.querySelector('#df-217518ef-ca18-4cbb-b26a-aa99dadd7467');\n",
              "          const dataTable =\n",
              "            await google.colab.kernel.invokeFunction('convertToInteractive',\n",
              "                                                     [key], {});\n",
              "          if (!dataTable) return;\n",
              "\n",
              "          const docLinkHtml = 'Like what you see? Visit the ' +\n",
              "            '<a target=\"_blank\" href=https://colab.research.google.com/notebooks/data_table.ipynb>data table notebook</a>'\n",
              "            + ' to learn more about interactive tables.';\n",
              "          element.innerHTML = '';\n",
              "          dataTable['output_type'] = 'display_data';\n",
              "          await google.colab.output.renderOutput(dataTable, element);\n",
              "          const docLink = document.createElement('div');\n",
              "          docLink.innerHTML = docLinkHtml;\n",
              "          element.appendChild(docLink);\n",
              "        }\n",
              "      </script>\n",
              "    </div>\n",
              "  </div>\n",
              "  "
            ]
          },
          "metadata": {},
          "execution_count": 36
        }
      ]
    },
    {
      "cell_type": "markdown",
      "source": [
        "Title column in the has been succefully created "
      ],
      "metadata": {
        "id": "E0r4N-aOy7xF"
      }
    },
    {
      "cell_type": "code",
      "source": [
        "# Previewing unique values and their counts in the Title feature in the titanic dataset\n",
        "titanic_df['title'].value_counts()"
      ],
      "metadata": {
        "colab": {
          "base_uri": "https://localhost:8080/"
        },
        "id": "ExOaRxMqzGEG",
        "outputId": "519e702f-3289-4873-a366-87a6e8aa2bca"
      },
      "execution_count": 37,
      "outputs": [
        {
          "output_type": "execute_result",
          "data": {
            "text/plain": [
              "Mr          517\n",
              "Miss        182\n",
              "Mrs         125\n",
              "Master       40\n",
              "Dr            7\n",
              "Rev           6\n",
              "Mlle          2\n",
              "Major         2\n",
              "Col           2\n",
              "Countess      1\n",
              "Capt          1\n",
              "Ms            1\n",
              "Sir           1\n",
              "Lady          1\n",
              "Mme           1\n",
              "Don           1\n",
              "Jonkheer      1\n",
              "Name: title, dtype: int64"
            ]
          },
          "metadata": {},
          "execution_count": 37
        }
      ]
    },
    {
      "cell_type": "markdown",
      "source": [
        "Most common titles among the passengers were:\n",
        "- Mr          517\n",
        "- Miss        182\n",
        "- Mrs         125\n",
        "- Master       40\n",
        "\n",
        "The were 17 different titles amongst the passengers in the titanic"
      ],
      "metadata": {
        "id": "YokXIEnszezm"
      }
    },
    {
      "cell_type": "code",
      "source": [
        "# Replacing the less common titles with the common ones\n",
        "mapping = {'Mlle': 'Miss', 'Major': 'Mr', 'Col': 'Mr', 'Sir': 'Mr',\n",
        "           'Don': 'Mr', 'Mme': 'Mrs', 'Jonkheer': 'Mr', 'Lady': 'Mrs',\n",
        "           'Capt': 'Mr', 'Countess': 'Mrs', 'Ms': 'Miss', 'Dona': 'Mrs'}\n",
        "\n",
        "\n",
        "titanic_df.replace({'Title': mapping}, inplace=True)"
      ],
      "metadata": {
        "id": "1qnnXz__-yGb"
      },
      "execution_count": 38,
      "outputs": []
    },
    {
      "cell_type": "code",
      "source": [
        "# Imputing missing values of age using the median age of the title groupings\n",
        "imputed_ages = dict(titanic_df.groupby('title')['age'].median())\n",
        "\n",
        "# Creating a with ages averaged\n",
        "titanic_df['av_age'] = titanic_df['title'].apply(lambda x: imputed_ages[x])\n",
        "\n",
        "#  Replacing all missing values with  values in av_age column\n",
        "titanic_df['age'].fillna(titanic_df['av_age'], inplace = True)\n",
        "\n",
        "# Dropping the av_age column since it is no longer needed\n",
        "titanic_df = titanic_df.drop(columns = ['av_age'], axis = 1)\n"
      ],
      "metadata": {
        "id": "62u2xhqLIc5p"
      },
      "execution_count": 39,
      "outputs": []
    },
    {
      "cell_type": "code",
      "source": [
        "# Check for remaining null values after imputing null values in age column\n",
        "titanic_df.isnull().sum()"
      ],
      "metadata": {
        "colab": {
          "base_uri": "https://localhost:8080/"
        },
        "id": "974NVDgCRz7D",
        "outputId": "f895b3d0-ea6a-4a0a-f698-7bd30fb2894c"
      },
      "execution_count": 40,
      "outputs": [
        {
          "output_type": "execute_result",
          "data": {
            "text/plain": [
              "passengerid    0\n",
              "survived       0\n",
              "pclass         0\n",
              "name           0\n",
              "sex            0\n",
              "age            0\n",
              "sibsp          0\n",
              "parch          0\n",
              "ticket         0\n",
              "fare           0\n",
              "embarked       2\n",
              "title          0\n",
              "dtype: int64"
            ]
          },
          "metadata": {},
          "execution_count": 40
        }
      ]
    },
    {
      "cell_type": "code",
      "source": [
        "# Preview records in embarked column with two missing values\n",
        "titanic_df['embarked'].value_counts()"
      ],
      "metadata": {
        "colab": {
          "base_uri": "https://localhost:8080/"
        },
        "id": "P9w2w2fYR-Mi",
        "outputId": "e00a069b-a207-45f9-e891-fd141407c114"
      },
      "execution_count": 41,
      "outputs": [
        {
          "output_type": "execute_result",
          "data": {
            "text/plain": [
              "S    644\n",
              "C    168\n",
              "Q     77\n",
              "Name: embarked, dtype: int64"
            ]
          },
          "metadata": {},
          "execution_count": 41
        }
      ]
    },
    {
      "cell_type": "code",
      "source": [
        "# Impute both missing records with the most common record in the embarked column ('S')\n",
        "titanic_df['embarked'].fillna('S', inplace = True)"
      ],
      "metadata": {
        "id": "de8nMBIIR-Tm"
      },
      "execution_count": 42,
      "outputs": []
    },
    {
      "cell_type": "code",
      "source": [
        "# Preview dataframe for any more missing values\n",
        "titanic_df.isnull().sum()"
      ],
      "metadata": {
        "colab": {
          "base_uri": "https://localhost:8080/"
        },
        "id": "vyOBFU1ZSyAB",
        "outputId": "fe6a6ca2-2166-4571-c614-fe421e9a7b51"
      },
      "execution_count": 43,
      "outputs": [
        {
          "output_type": "execute_result",
          "data": {
            "text/plain": [
              "passengerid    0\n",
              "survived       0\n",
              "pclass         0\n",
              "name           0\n",
              "sex            0\n",
              "age            0\n",
              "sibsp          0\n",
              "parch          0\n",
              "ticket         0\n",
              "fare           0\n",
              "embarked       0\n",
              "title          0\n",
              "dtype: int64"
            ]
          },
          "metadata": {},
          "execution_count": 43
        }
      ]
    },
    {
      "cell_type": "markdown",
      "source": [
        "All missing values have been succefully and appropiately dealt with"
      ],
      "metadata": {
        "id": "feMA7grCS6vZ"
      }
    },
    {
      "cell_type": "markdown",
      "source": [
        "### Check for duplicates"
      ],
      "metadata": {
        "id": "JFiY-KWCTDZm"
      }
    },
    {
      "cell_type": "code",
      "source": [
        "# Checking for any duplicate records in the titanic dataset\n",
        "titanic_df.duplicated().sum()"
      ],
      "metadata": {
        "colab": {
          "base_uri": "https://localhost:8080/"
        },
        "id": "uN_XWl6OTCcW",
        "outputId": "0baea211-9e46-4c6b-df7c-a393c98d155a"
      },
      "execution_count": 44,
      "outputs": [
        {
          "output_type": "execute_result",
          "data": {
            "text/plain": [
              "0"
            ]
          },
          "metadata": {},
          "execution_count": 44
        }
      ]
    },
    {
      "cell_type": "markdown",
      "source": [
        "The dataset has no duplicate records"
      ],
      "metadata": {
        "id": "F1IKPDODUwrX"
      }
    },
    {
      "cell_type": "markdown",
      "source": [
        "### Checking for outliers"
      ],
      "metadata": {
        "id": "LJFcMyrsUz2c"
      }
    },
    {
      "cell_type": "code",
      "source": [
        "# 1. Outliers\n",
        "# Checking for outliers in age and fare columns in the titanic dataframe\n",
        "sns.boxplot(titanic_df['age'])\n",
        "\n",
        "plt.show()"
      ],
      "metadata": {
        "colab": {
          "base_uri": "https://localhost:8080/",
          "height": 335
        },
        "id": "LPXZLjB0UzNy",
        "outputId": "eeb3fb04-4c37-4e74-ac17-97dbeb6914ac"
      },
      "execution_count": 45,
      "outputs": [
        {
          "output_type": "stream",
          "name": "stderr",
          "text": [
            "/usr/local/lib/python3.7/dist-packages/seaborn/_decorators.py:43: FutureWarning: Pass the following variable as a keyword arg: x. From version 0.12, the only valid positional argument will be `data`, and passing other arguments without an explicit keyword will result in an error or misinterpretation.\n",
            "  FutureWarning\n"
          ]
        },
        {
          "output_type": "display_data",
          "data": {
            "text/plain": [
              "<Figure size 432x288 with 1 Axes>"
            ],
            "image/png": "[encoded data removed]"
          },
          "metadata": {
            "needs_background": "light"
          }
        }
      ]
    },
    {
      "cell_type": "markdown",
      "source": [
        "Outliers were passengers in the titanic with ages over 55 years. However they shall be maintained since all those ages fall within the normal age bracket of most human beings"
      ],
      "metadata": {
        "id": "PTAZZP4JZFuQ"
      }
    },
    {
      "cell_type": "code",
      "source": [
        "# Previewing the cleaned dataset\n",
        "titanic_df.head()"
      ],
      "metadata": {
        "colab": {
          "base_uri": "https://localhost:8080/",
          "height": 476
        },
        "id": "XE8Z6jc0bMCG",
        "outputId": "3109bf83-f376-4109-f571-28e4926f4450"
      },
      "execution_count": 46,
      "outputs": [
        {
          "output_type": "execute_result",
          "data": {
            "text/plain": [
              "   passengerid  survived  pclass  \\\n",
              "0            1         0       3   \n",
              "1            2         1       1   \n",
              "2            3         1       3   \n",
              "3            4         1       1   \n",
              "4            5         0       3   \n",
              "\n",
              "                                                name     sex   age  sibsp  \\\n",
              "0                            Braund, Mr. Owen Harris    male  22.0      1   \n",
              "1  Cumings, Mrs. John Bradley (Florence Briggs Th...  female  38.0      1   \n",
              "2                             Heikkinen, Miss. Laina  female  26.0      0   \n",
              "3       Futrelle, Mrs. Jacques Heath (Lily May Peel)  female  35.0      1   \n",
              "4                           Allen, Mr. William Henry    male  35.0      0   \n",
              "\n",
              "   parch            ticket     fare embarked title  \n",
              "0      0         A/5 21171   7.2500        S    Mr  \n",
              "1      0          PC 17599  71.2833        C   Mrs  \n",
              "2      0  STON/O2. 3101282   7.9250        S  Miss  \n",
              "3      0            113803  53.1000        S   Mrs  \n",
              "4      0            373450   8.0500        S    Mr  "
            ],
            "text/html": [
              "\n",
              "  <div id=\"df-28b57b11-509b-44a2-a73a-8a0e8dddd5d9\">\n",
              "    <div class=\"colab-df-container\">\n",
              "      <div>\n",
              "<style scoped>\n",
              "    .dataframe tbody tr th:only-of-type {\n",
              "        vertical-align: middle;\n",
              "    }\n",
              "\n",
              "    .dataframe tbody tr th {\n",
              "        vertical-align: top;\n",
              "    }\n",
              "\n",
              "    .dataframe thead th {\n",
              "        text-align: right;\n",
              "    }\n",
              "</style>\n",
              "<table border=\"1\" class=\"dataframe\">\n",
              "  <thead>\n",
              "    <tr style=\"text-align: right;\">\n",
              "      <th></th>\n",
              "      <th>passengerid</th>\n",
              "      <th>survived</th>\n",
              "      <th>pclass</th>\n",
              "      <th>name</th>\n",
              "      <th>sex</th>\n",
              "      <th>age</th>\n",
              "      <th>sibsp</th>\n",
              "      <th>parch</th>\n",
              "      <th>ticket</th>\n",
              "      <th>fare</th>\n",
              "      <th>embarked</th>\n",
              "      <th>title</th>\n",
              "    </tr>\n",
              "  </thead>\n",
              "  <tbody>\n",
              "    <tr>\n",
              "      <th>0</th>\n",
              "      <td>1</td>\n",
              "      <td>0</td>\n",
              "      <td>3</td>\n",
              "      <td>Braund, Mr. Owen Harris</td>\n",
              "      <td>male</td>\n",
              "      <td>22.0</td>\n",
              "      <td>1</td>\n",
              "      <td>0</td>\n",
              "      <td>A/5 21171</td>\n",
              "      <td>7.2500</td>\n",
              "      <td>S</td>\n",
              "      <td>Mr</td>\n",
              "    </tr>\n",
              "    <tr>\n",
              "      <th>1</th>\n",
              "      <td>2</td>\n",
              "      <td>1</td>\n",
              "      <td>1</td>\n",
              "      <td>Cumings, Mrs. John Bradley (Florence Briggs Th...</td>\n",
              "      <td>female</td>\n",
              "      <td>38.0</td>\n",
              "      <td>1</td>\n",
              "      <td>0</td>\n",
              "      <td>PC 17599</td>\n",
              "      <td>71.2833</td>\n",
              "      <td>C</td>\n",
              "      <td>Mrs</td>\n",
              "    </tr>\n",
              "    <tr>\n",
              "      <th>2</th>\n",
              "      <td>3</td>\n",
              "      <td>1</td>\n",
              "      <td>3</td>\n",
              "      <td>Heikkinen, Miss. Laina</td>\n",
              "      <td>female</td>\n",
              "      <td>26.0</td>\n",
              "      <td>0</td>\n",
              "      <td>0</td>\n",
              "      <td>STON/O2. 3101282</td>\n",
              "      <td>7.9250</td>\n",
              "      <td>S</td>\n",
              "      <td>Miss</td>\n",
              "    </tr>\n",
              "    <tr>\n",
              "      <th>3</th>\n",
              "      <td>4</td>\n",
              "      <td>1</td>\n",
              "      <td>1</td>\n",
              "      <td>Futrelle, Mrs. Jacques Heath (Lily May Peel)</td>\n",
              "      <td>female</td>\n",
              "      <td>35.0</td>\n",
              "      <td>1</td>\n",
              "      <td>0</td>\n",
              "      <td>113803</td>\n",
              "      <td>53.1000</td>\n",
              "      <td>S</td>\n",
              "      <td>Mrs</td>\n",
              "    </tr>\n",
              "    <tr>\n",
              "      <th>4</th>\n",
              "      <td>5</td>\n",
              "      <td>0</td>\n",
              "      <td>3</td>\n",
              "      <td>Allen, Mr. William Henry</td>\n",
              "      <td>male</td>\n",
              "      <td>35.0</td>\n",
              "      <td>0</td>\n",
              "      <td>0</td>\n",
              "      <td>373450</td>\n",
              "      <td>8.0500</td>\n",
              "      <td>S</td>\n",
              "      <td>Mr</td>\n",
              "    </tr>\n",
              "  </tbody>\n",
              "</table>\n",
              "</div>\n",
              "      <button class=\"colab-df-convert\" onclick=\"convertToInteractive('df-28b57b11-509b-44a2-a73a-8a0e8dddd5d9')\"\n",
              "              title=\"Convert this dataframe to an interactive table.\"\n",
              "              style=\"display:none;\">\n",
              "        \n",
              "  <svg xmlns=\"http://www.w3.org/2000/svg\" height=\"24px\"viewBox=\"0 0 24 24\"\n",
              "       width=\"24px\">\n",
              "    <path d=\"M0 0h24v24H0V0z\" fill=\"none\"/>\n",
              "    <path d=\"M18.56 5.44l.94 2.06.94-2.06 2.06-.94-2.06-.94-.94-2.06-.94 2.06-2.06.94zm-11 1L8.5 8.5l.94-2.06 2.06-.94-2.06-.94L8.5 2.5l-.94 2.06-2.06.94zm10 10l.94 2.06.94-2.06 2.06-.94-2.06-.94-.94-2.06-.94 2.06-2.06.94z\"/><path d=\"M17.41 7.96l-1.37-1.37c-.4-.4-.92-.59-1.43-.59-.52 0-1.04.2-1.43.59L10.3 9.45l-7.72 7.72c-.78.78-.78 2.05 0 2.83L4 21.41c.39.39.9.59 1.41.59.51 0 1.02-.2 1.41-.59l7.78-7.78 2.81-2.81c.8-.78.8-2.07 0-2.86zM5.41 20L4 18.59l7.72-7.72 1.47 1.35L5.41 20z\"/>\n",
              "  </svg>\n",
              "      </button>\n",
              "      \n",
              "  <style>\n",
              "    .colab-df-container {\n",
              "      display:flex;\n",
              "      flex-wrap:wrap;\n",
              "      gap: 12px;\n",
              "    }\n",
              "\n",
              "    .colab-df-convert {\n",
              "      background-color: #E8F0FE;\n",
              "      border: none;\n",
              "      border-radius: 50%;\n",
              "      cursor: pointer;\n",
              "      display: none;\n",
              "      fill: #1967D2;\n",
              "      height: 32px;\n",
              "      padding: 0 0 0 0;\n",
              "      width: 32px;\n",
              "    }\n",
              "\n",
              "    .colab-df-convert:hover {\n",
              "      background-color: #E2EBFA;\n",
              "      box-shadow: 0px 1px 2px rgba(60, 64, 67, 0.3), 0px 1px 3px 1px rgba(60, 64, 67, 0.15);\n",
              "      fill: #174EA6;\n",
              "    }\n",
              "\n",
              "    [theme=dark] .colab-df-convert {\n",
              "      background-color: #3B4455;\n",
              "      fill: #D2E3FC;\n",
              "    }\n",
              "\n",
              "    [theme=dark] .colab-df-convert:hover {\n",
              "      background-color: #434B5C;\n",
              "      box-shadow: 0px 1px 3px 1px rgba(0, 0, 0, 0.15);\n",
              "      filter: drop-shadow(0px 1px 2px rgba(0, 0, 0, 0.3));\n",
              "      fill: #FFFFFF;\n",
              "    }\n",
              "  </style>\n",
              "\n",
              "      <script>\n",
              "        const buttonEl =\n",
              "          document.querySelector('#df-28b57b11-509b-44a2-a73a-8a0e8dddd5d9 button.colab-df-convert');\n",
              "        buttonEl.style.display =\n",
              "          google.colab.kernel.accessAllowed ? 'block' : 'none';\n",
              "\n",
              "        async function convertToInteractive(key) {\n",
              "          const element = document.querySelector('#df-28b57b11-509b-44a2-a73a-8a0e8dddd5d9');\n",
              "          const dataTable =\n",
              "            await google.colab.kernel.invokeFunction('convertToInteractive',\n",
              "                                                     [key], {});\n",
              "          if (!dataTable) return;\n",
              "\n",
              "          const docLinkHtml = 'Like what you see? Visit the ' +\n",
              "            '<a target=\"_blank\" href=https://colab.research.google.com/notebooks/data_table.ipynb>data table notebook</a>'\n",
              "            + ' to learn more about interactive tables.';\n",
              "          element.innerHTML = '';\n",
              "          dataTable['output_type'] = 'display_data';\n",
              "          await google.colab.output.renderOutput(dataTable, element);\n",
              "          const docLink = document.createElement('div');\n",
              "          docLink.innerHTML = docLinkHtml;\n",
              "          element.appendChild(docLink);\n",
              "        }\n",
              "      </script>\n",
              "    </div>\n",
              "  </div>\n",
              "  "
            ]
          },
          "metadata": {},
          "execution_count": 46
        }
      ]
    },
    {
      "cell_type": "markdown",
      "source": [
        "## Feature selection"
      ],
      "metadata": {
        "id": "_cAeHxmvIqXi"
      }
    },
    {
      "cell_type": "markdown",
      "source": [
        "Some attributes in the dataset add no value to the subsequent predictions to determine whether a passenger survived or not.\n",
        "\n",
        "The cabin column over 50% of it's records was dropped. Other  features with negligible value to the subsequent analysis are\n",
        "  - Fare - the fare a passenger paid\n",
        "  - ticket- the ticket information of a  passenger\n",
        "  - Name- the name of a passenger\n",
        "  - Title- the title (Mr or MRs) of a passenger\n",
        "  - PassengerID- unique identifier of a passenger record is redundant is subsequent analysis\n",
        "\n",
        "These columns shall all be dropped"
      ],
      "metadata": {
        "id": "4MOdAAS4Iw4n"
      }
    },
    {
      "cell_type": "code",
      "source": [
        "# Dropping uneccessary columns(fare, ticket, passengerid, and name) in the titanic dataset\n",
        "# Since they add no value to the subsequent modeeling steps\n",
        "titanic_df = titanic_df.drop(columns = ['fare', 'ticket', 'passengerid', 'name', 'title'], axis =1)\n"
      ],
      "metadata": {
        "id": "HV9A4beIIvEF"
      },
      "execution_count": 47,
      "outputs": []
    },
    {
      "cell_type": "markdown",
      "source": [
        "## Exploratory data analysis"
      ],
      "metadata": {
        "id": "RxO7aa-iC6XP"
      }
    },
    {
      "cell_type": "markdown",
      "source": [
        "### Univariate analysis"
      ],
      "metadata": {
        "id": "0SIiM1kKC9YS"
      }
    },
    {
      "cell_type": "code",
      "source": [
        "# The numeric columns in the titanic dataset will be analysed for mean, standard deviation and median values\n",
        "# Describe titanic dataset\n",
        "titanic_df[['age', 'sibsp', 'parch']].describe()"
      ],
      "metadata": {
        "colab": {
          "base_uri": "https://localhost:8080/",
          "height": 300
        },
        "id": "_E0fYx5xHOpv",
        "outputId": "aefb7ad0-9687-4f47-bdaf-2388be96cb9b"
      },
      "execution_count": 49,
      "outputs": [
        {
          "output_type": "execute_result",
          "data": {
            "text/plain": [
              "              age       sibsp       parch\n",
              "count  891.000000  891.000000  891.000000\n",
              "mean    29.390202    0.523008    0.381594\n",
              "std     13.265322    1.102743    0.806057\n",
              "min      0.420000    0.000000    0.000000\n",
              "25%     21.000000    0.000000    0.000000\n",
              "50%     30.000000    0.000000    0.000000\n",
              "75%     35.000000    1.000000    0.000000\n",
              "max     80.000000    8.000000    6.000000"
            ],
            "text/html": [
              "\n",
              "  <div id=\"df-51c8a3b6-4491-463c-b9cc-20c7c30e3cfe\">\n",
              "    <div class=\"colab-df-container\">\n",
              "      <div>\n",
              "<style scoped>\n",
              "    .dataframe tbody tr th:only-of-type {\n",
              "        vertical-align: middle;\n",
              "    }\n",
              "\n",
              "    .dataframe tbody tr th {\n",
              "        vertical-align: top;\n",
              "    }\n",
              "\n",
              "    .dataframe thead th {\n",
              "        text-align: right;\n",
              "    }\n",
              "</style>\n",
              "<table border=\"1\" class=\"dataframe\">\n",
              "  <thead>\n",
              "    <tr style=\"text-align: right;\">\n",
              "      <th></th>\n",
              "      <th>age</th>\n",
              "      <th>sibsp</th>\n",
              "      <th>parch</th>\n",
              "    </tr>\n",
              "  </thead>\n",
              "  <tbody>\n",
              "    <tr>\n",
              "      <th>count</th>\n",
              "      <td>891.000000</td>\n",
              "      <td>891.000000</td>\n",
              "      <td>891.000000</td>\n",
              "    </tr>\n",
              "    <tr>\n",
              "      <th>mean</th>\n",
              "      <td>29.390202</td>\n",
              "      <td>0.523008</td>\n",
              "      <td>0.381594</td>\n",
              "    </tr>\n",
              "    <tr>\n",
              "      <th>std</th>\n",
              "      <td>13.265322</td>\n",
              "      <td>1.102743</td>\n",
              "      <td>0.806057</td>\n",
              "    </tr>\n",
              "    <tr>\n",
              "      <th>min</th>\n",
              "      <td>0.420000</td>\n",
              "      <td>0.000000</td>\n",
              "      <td>0.000000</td>\n",
              "    </tr>\n",
              "    <tr>\n",
              "      <th>25%</th>\n",
              "      <td>21.000000</td>\n",
              "      <td>0.000000</td>\n",
              "      <td>0.000000</td>\n",
              "    </tr>\n",
              "    <tr>\n",
              "      <th>50%</th>\n",
              "      <td>30.000000</td>\n",
              "      <td>0.000000</td>\n",
              "      <td>0.000000</td>\n",
              "    </tr>\n",
              "    <tr>\n",
              "      <th>75%</th>\n",
              "      <td>35.000000</td>\n",
              "      <td>1.000000</td>\n",
              "      <td>0.000000</td>\n",
              "    </tr>\n",
              "    <tr>\n",
              "      <th>max</th>\n",
              "      <td>80.000000</td>\n",
              "      <td>8.000000</td>\n",
              "      <td>6.000000</td>\n",
              "    </tr>\n",
              "  </tbody>\n",
              "</table>\n",
              "</div>\n",
              "      <button class=\"colab-df-convert\" onclick=\"convertToInteractive('df-51c8a3b6-4491-463c-b9cc-20c7c30e3cfe')\"\n",
              "              title=\"Convert this dataframe to an interactive table.\"\n",
              "              style=\"display:none;\">\n",
              "        \n",
              "  <svg xmlns=\"http://www.w3.org/2000/svg\" height=\"24px\"viewBox=\"0 0 24 24\"\n",
              "       width=\"24px\">\n",
              "    <path d=\"M0 0h24v24H0V0z\" fill=\"none\"/>\n",
              "    <path d=\"M18.56 5.44l.94 2.06.94-2.06 2.06-.94-2.06-.94-.94-2.06-.94 2.06-2.06.94zm-11 1L8.5 8.5l.94-2.06 2.06-.94-2.06-.94L8.5 2.5l-.94 2.06-2.06.94zm10 10l.94 2.06.94-2.06 2.06-.94-2.06-.94-.94-2.06-.94 2.06-2.06.94z\"/><path d=\"M17.41 7.96l-1.37-1.37c-.4-.4-.92-.59-1.43-.59-.52 0-1.04.2-1.43.59L10.3 9.45l-7.72 7.72c-.78.78-.78 2.05 0 2.83L4 21.41c.39.39.9.59 1.41.59.51 0 1.02-.2 1.41-.59l7.78-7.78 2.81-2.81c.8-.78.8-2.07 0-2.86zM5.41 20L4 18.59l7.72-7.72 1.47 1.35L5.41 20z\"/>\n",
              "  </svg>\n",
              "      </button>\n",
              "      \n",
              "  <style>\n",
              "    .colab-df-container {\n",
              "      display:flex;\n",
              "      flex-wrap:wrap;\n",
              "      gap: 12px;\n",
              "    }\n",
              "\n",
              "    .colab-df-convert {\n",
              "      background-color: #E8F0FE;\n",
              "      border: none;\n",
              "      border-radius: 50%;\n",
              "      cursor: pointer;\n",
              "      display: none;\n",
              "      fill: #1967D2;\n",
              "      height: 32px;\n",
              "      padding: 0 0 0 0;\n",
              "      width: 32px;\n",
              "    }\n",
              "\n",
              "    .colab-df-convert:hover {\n",
              "      background-color: #E2EBFA;\n",
              "      box-shadow: 0px 1px 2px rgba(60, 64, 67, 0.3), 0px 1px 3px 1px rgba(60, 64, 67, 0.15);\n",
              "      fill: #174EA6;\n",
              "    }\n",
              "\n",
              "    [theme=dark] .colab-df-convert {\n",
              "      background-color: #3B4455;\n",
              "      fill: #D2E3FC;\n",
              "    }\n",
              "\n",
              "    [theme=dark] .colab-df-convert:hover {\n",
              "      background-color: #434B5C;\n",
              "      box-shadow: 0px 1px 3px 1px rgba(0, 0, 0, 0.15);\n",
              "      filter: drop-shadow(0px 1px 2px rgba(0, 0, 0, 0.3));\n",
              "      fill: #FFFFFF;\n",
              "    }\n",
              "  </style>\n",
              "\n",
              "      <script>\n",
              "        const buttonEl =\n",
              "          document.querySelector('#df-51c8a3b6-4491-463c-b9cc-20c7c30e3cfe button.colab-df-convert');\n",
              "        buttonEl.style.display =\n",
              "          google.colab.kernel.accessAllowed ? 'block' : 'none';\n",
              "\n",
              "        async function convertToInteractive(key) {\n",
              "          const element = document.querySelector('#df-51c8a3b6-4491-463c-b9cc-20c7c30e3cfe');\n",
              "          const dataTable =\n",
              "            await google.colab.kernel.invokeFunction('convertToInteractive',\n",
              "                                                     [key], {});\n",
              "          if (!dataTable) return;\n",
              "\n",
              "          const docLinkHtml = 'Like what you see? Visit the ' +\n",
              "            '<a target=\"_blank\" href=https://colab.research.google.com/notebooks/data_table.ipynb>data table notebook</a>'\n",
              "            + ' to learn more about interactive tables.';\n",
              "          element.innerHTML = '';\n",
              "          dataTable['output_type'] = 'display_data';\n",
              "          await google.colab.output.renderOutput(dataTable, element);\n",
              "          const docLink = document.createElement('div');\n",
              "          docLink.innerHTML = docLinkHtml;\n",
              "          element.appendChild(docLink);\n",
              "        }\n",
              "      </script>\n",
              "    </div>\n",
              "  </div>\n",
              "  "
            ]
          },
          "metadata": {},
          "execution_count": 49
        }
      ]
    },
    {
      "cell_type": "markdown",
      "source": [
        "From the results:\n",
        "Mean:\n",
        "  - Age - 29.29 years\n",
        "  - sibsp(Number of Siblings/Spouses Aboard) = 0.523\n",
        "  - parch(Number of Parents/Children Aboard) = 0.381\n",
        "\n",
        "Median:\n",
        "  - age- 30 years\n",
        "  - sibsp - 0.00\n",
        "  - parch -0.00\n",
        "\n",
        "Std:\n",
        "  - age -13.26\n",
        "  - sibsp- 1.102\n",
        "  - parch - 0.806\n",
        "\n",
        "From these observations, most passengers were around 30 years of age and there was a great disparit amongst the ages of the passengers\n",
        "\n",
        "Most passengers had no siblings or spouses on board. Furthermore most people were neither parents nor children in the ship. Most passengers in the ship were individuals not families\n"
      ],
      "metadata": {
        "id": "z6K6xEcKKGZn"
      }
    },
    {
      "cell_type": "code",
      "source": [
        "# Checking the distribution of the age, sibsp, and parch features in the titanic dataset\n",
        "# Skew\n",
        "titanic_df[['age', 'sibsp', 'parch']].skew(axis=0, skipna=True, level=None, numeric_only=None)"
      ],
      "metadata": {
        "colab": {
          "base_uri": "https://localhost:8080/"
        },
        "id": "GFQ_ftBOJ-IS",
        "outputId": "7dce2281-1039-4226-f0b7-c2d8aaaebc5c"
      },
      "execution_count": 51,
      "outputs": [
        {
          "output_type": "execute_result",
          "data": {
            "text/plain": [
              "age      0.436534\n",
              "sibsp    3.695352\n",
              "parch    2.749117\n",
              "dtype: float64"
            ]
          },
          "metadata": {},
          "execution_count": 51
        }
      ]
    },
    {
      "cell_type": "markdown",
      "source": [
        "All three attributes(age, sibsp, parch) had a positive skew. They were skewd to the right.\n",
        "\n",
        "Sibsp had had the largest skew of the three."
      ],
      "metadata": {
        "id": "-pbAMd0GMisG"
      }
    },
    {
      "cell_type": "code",
      "source": [
        "# Kurtosis\n",
        "titanic_df[['age', 'sibsp', 'parch']].kurtosis(axis=0, skipna=True, level=None, numeric_only=None)"
      ],
      "metadata": {
        "colab": {
          "base_uri": "https://localhost:8080/"
        },
        "id": "ZSxdSgv2NMfz",
        "outputId": "72829aea-da99-4910-fdc9-72f735b5a0ee"
      },
      "execution_count": 52,
      "outputs": [
        {
          "output_type": "execute_result",
          "data": {
            "text/plain": [
              "age       0.777187\n",
              "sibsp    17.880420\n",
              "parch     9.778125\n",
              "dtype: float64"
            ]
          },
          "metadata": {},
          "execution_count": 52
        }
      ]
    },
    {
      "cell_type": "markdown",
      "source": [
        "All three variables had a positive kurtosis. This implies that these variables had more tails than the normal distribution. Sibsp had the highest Kurtosis."
      ],
      "metadata": {
        "id": "adGc016iNwwm"
      }
    },
    {
      "cell_type": "code",
      "source": [
        "# Pie chart representation of genders aboard the titanic dataset\n",
        "# Value counts of the sexes in the titanic\n",
        "sex = titanic_df['sex'].value_counts()\n",
        "\n",
        "# Exploding one part of the pie chart\n",
        "explode = (0, 0.1)\n",
        "\n",
        "# Plotting our pie chart\n",
        "plt.pie(sex, explode = explode, labels = sex.index, autopct = '%1.1f%%', shadow = True, startangle = 140)\n",
        "\n",
        "# Specifying axis type\n",
        "plt.axis('equal')\n",
        "\n",
        "# Set title\n",
        "plt.title('Pie chart representing sex composition of passengers in the titanic')\n",
        "\n",
        "# Show plot\n",
        "plt.show()\n"
      ],
      "metadata": {
        "colab": {
          "base_uri": "https://localhost:8080/",
          "height": 283
        },
        "id": "dtKrRYiqOAhF",
        "outputId": "dc71eae4-2930-407a-db53-c064b85e1248"
      },
      "execution_count": 53,
      "outputs": [
        {
          "output_type": "display_data",
          "data": {
            "text/plain": [
              "<Figure size 432x288 with 1 Axes>"
            ],
            "image/png": "[encoded data removed]"
          },
          "metadata": {}
        },
        {
          "output_type": "stream",
          "name": "stdout",
          "text": [
            "\n"
          ]
        }
      ]
    },
    {
      "cell_type": "markdown",
      "source": [
        "There were more men than women aboard the titanic. 64.8% of the passengers were male, 35.2% were female"
      ],
      "metadata": {
        "id": "1PyKANmgOoPX"
      }
    },
    {
      "cell_type": "code",
      "source": [
        "# Pie chart showing the passengers in the titanic that survived and those that did not\n",
        "# Value counts passengers that survived and those that died in the titanic\n",
        "survived = titanic_df['survived'].value_counts()\n",
        "\n",
        "# Exploding one part of the pie chart\n",
        "explode = (0, 0.1)\n",
        "\n",
        "# Plotting our pie chart\n",
        "plt.pie(survived, explode = explode, labels = survived.index, autopct = '%1.1f%%', shadow = True, startangle = 140)\n",
        "\n",
        "# Specifying axis type\n",
        "plt.axis('equal')\n",
        "\n",
        "# Set title\n",
        "plt.title('Pie chart showing propotion of passengers that survived and those that did not')\n",
        "\n",
        "# Show plot\n",
        "plt.show()\n"
      ],
      "metadata": {
        "colab": {
          "base_uri": "https://localhost:8080/",
          "height": 264
        },
        "id": "hxiwdP2DOwum",
        "outputId": "ba8cf823-2c05-4de0-8228-35eab1035e05"
      },
      "execution_count": 54,
      "outputs": [
        {
          "output_type": "display_data",
          "data": {
            "text/plain": [
              "<Figure size 432x288 with 1 Axes>"
            ],
            "image/png": "[encoded data removed]"
          },
          "metadata": {}
        }
      ]
    },
    {
      "cell_type": "markdown",
      "source": [
        "- 1-Represents passengers that survived (38.4% of all passengers in the titanic survived)\n",
        "- 0- Represents passengers that died (61.6% of all passengers perished)\n",
        "\n",
        "Fewer passengers in the titanic survived the ship sinking compared to those that perished"
      ],
      "metadata": {
        "id": "qr-F9gnUPcO9"
      }
    },
    {
      "cell_type": "code",
      "source": [
        "# Pie chart showing the boarding points of the passengers onto the titatnic\n",
        "# Value counts passengers that boarded the ship in different locations\n",
        "embarked = titanic_df['embarked'].value_counts()\n",
        "\n",
        "# Exploding one part of the pie chart\n",
        "explode = (0, 0.1, 0)\n",
        "\n",
        "# Plotting our pie chart\n",
        "plt.pie(embarked, explode = explode, labels = embarked.index, autopct = '%1.1f%%', shadow = True, startangle = 140)\n",
        "\n",
        "# Specifying axis type\n",
        "plt.axis('equal')\n",
        "\n",
        "# Set title\n",
        "plt.title('Pie chart showing passengers that boarded the titanic at differnt boarding points')\n",
        "\n",
        "# Show plot\n",
        "plt.show()\n"
      ],
      "metadata": {
        "colab": {
          "base_uri": "https://localhost:8080/",
          "height": 269
        },
        "id": "FRo-myO4P8vE",
        "outputId": "dfe424fa-8e52-4780-bc5e-8f047762b8cb"
      },
      "execution_count": 55,
      "outputs": [
        {
          "output_type": "display_data",
          "data": {
            "text/plain": [
              "<Figure size 432x288 with 1 Axes>"
            ],
            "image/png": "[encoded data removed]"
          },
          "metadata": {}
        }
      ]
    },
    {
      "cell_type": "markdown",
      "source": [
        "There were three boarding points that the titanic took in passsengers \n",
        "1. S(southhampton)- Most of the passengers (72.5%) in the ship boarded the ship at this location\n",
        "2. C(Cherbourg) - 18.9% of the passengers aboard the ship boarded the ship at cherbourg\n",
        "3. Q(queenstown) - 8.6% of the passengers aboard the ship boarded the ship at quenstown"
      ],
      "metadata": {
        "id": "3bQLe0RPQbB8"
      }
    },
    {
      "cell_type": "markdown",
      "source": [
        "### Encoding"
      ],
      "metadata": {
        "id": "Xj1D18ifZThj"
      }
    },
    {
      "cell_type": "code",
      "source": [
        "# label encoding the sex and embarked columns since they both have few unique attributes (Sex = 2, embarked = 3)\n",
        "# Columns for label encoding\n",
        "categ = ['sex', 'embarked']\n",
        "\n",
        "# Encode Categorical Columns\n",
        "le = LabelEncoder()\n",
        "titanic_df[categ] = titanic_df[categ].apply(le.fit_transform)"
      ],
      "metadata": {
        "id": "3Ax2WoLvZtZ-"
      },
      "execution_count": 56,
      "outputs": []
    },
    {
      "cell_type": "code",
      "source": [
        "# Preview dataset after encoding\n",
        "titanic_df.head()\n"
      ],
      "metadata": {
        "colab": {
          "base_uri": "https://localhost:8080/",
          "height": 206
        },
        "id": "a3vPIWVFbiWT",
        "outputId": "4c2f5d87-31e6-48cd-876e-821f3134a8bc"
      },
      "execution_count": 57,
      "outputs": [
        {
          "output_type": "execute_result",
          "data": {
            "text/plain": [
              "   survived  pclass  sex   age  sibsp  parch  embarked\n",
              "0         0       3    1  22.0      1      0         2\n",
              "1         1       1    0  38.0      1      0         0\n",
              "2         1       3    0  26.0      0      0         2\n",
              "3         1       1    0  35.0      1      0         2\n",
              "4         0       3    1  35.0      0      0         2"
            ],
            "text/html": [
              "\n",
              "  <div id=\"df-8627437c-43b3-4420-aa77-b49e70c839c9\">\n",
              "    <div class=\"colab-df-container\">\n",
              "      <div>\n",
              "<style scoped>\n",
              "    .dataframe tbody tr th:only-of-type {\n",
              "        vertical-align: middle;\n",
              "    }\n",
              "\n",
              "    .dataframe tbody tr th {\n",
              "        vertical-align: top;\n",
              "    }\n",
              "\n",
              "    .dataframe thead th {\n",
              "        text-align: right;\n",
              "    }\n",
              "</style>\n",
              "<table border=\"1\" class=\"dataframe\">\n",
              "  <thead>\n",
              "    <tr style=\"text-align: right;\">\n",
              "      <th></th>\n",
              "      <th>survived</th>\n",
              "      <th>pclass</th>\n",
              "      <th>sex</th>\n",
              "      <th>age</th>\n",
              "      <th>sibsp</th>\n",
              "      <th>parch</th>\n",
              "      <th>embarked</th>\n",
              "    </tr>\n",
              "  </thead>\n",
              "  <tbody>\n",
              "    <tr>\n",
              "      <th>0</th>\n",
              "      <td>0</td>\n",
              "      <td>3</td>\n",
              "      <td>1</td>\n",
              "      <td>22.0</td>\n",
              "      <td>1</td>\n",
              "      <td>0</td>\n",
              "      <td>2</td>\n",
              "    </tr>\n",
              "    <tr>\n",
              "      <th>1</th>\n",
              "      <td>1</td>\n",
              "      <td>1</td>\n",
              "      <td>0</td>\n",
              "      <td>38.0</td>\n",
              "      <td>1</td>\n",
              "      <td>0</td>\n",
              "      <td>0</td>\n",
              "    </tr>\n",
              "    <tr>\n",
              "      <th>2</th>\n",
              "      <td>1</td>\n",
              "      <td>3</td>\n",
              "      <td>0</td>\n",
              "      <td>26.0</td>\n",
              "      <td>0</td>\n",
              "      <td>0</td>\n",
              "      <td>2</td>\n",
              "    </tr>\n",
              "    <tr>\n",
              "      <th>3</th>\n",
              "      <td>1</td>\n",
              "      <td>1</td>\n",
              "      <td>0</td>\n",
              "      <td>35.0</td>\n",
              "      <td>1</td>\n",
              "      <td>0</td>\n",
              "      <td>2</td>\n",
              "    </tr>\n",
              "    <tr>\n",
              "      <th>4</th>\n",
              "      <td>0</td>\n",
              "      <td>3</td>\n",
              "      <td>1</td>\n",
              "      <td>35.0</td>\n",
              "      <td>0</td>\n",
              "      <td>0</td>\n",
              "      <td>2</td>\n",
              "    </tr>\n",
              "  </tbody>\n",
              "</table>\n",
              "</div>\n",
              "      <button class=\"colab-df-convert\" onclick=\"convertToInteractive('df-8627437c-43b3-4420-aa77-b49e70c839c9')\"\n",
              "              title=\"Convert this dataframe to an interactive table.\"\n",
              "              style=\"display:none;\">\n",
              "        \n",
              "  <svg xmlns=\"http://www.w3.org/2000/svg\" height=\"24px\"viewBox=\"0 0 24 24\"\n",
              "       width=\"24px\">\n",
              "    <path d=\"M0 0h24v24H0V0z\" fill=\"none\"/>\n",
              "    <path d=\"M18.56 5.44l.94 2.06.94-2.06 2.06-.94-2.06-.94-.94-2.06-.94 2.06-2.06.94zm-11 1L8.5 8.5l.94-2.06 2.06-.94-2.06-.94L8.5 2.5l-.94 2.06-2.06.94zm10 10l.94 2.06.94-2.06 2.06-.94-2.06-.94-.94-2.06-.94 2.06-2.06.94z\"/><path d=\"M17.41 7.96l-1.37-1.37c-.4-.4-.92-.59-1.43-.59-.52 0-1.04.2-1.43.59L10.3 9.45l-7.72 7.72c-.78.78-.78 2.05 0 2.83L4 21.41c.39.39.9.59 1.41.59.51 0 1.02-.2 1.41-.59l7.78-7.78 2.81-2.81c.8-.78.8-2.07 0-2.86zM5.41 20L4 18.59l7.72-7.72 1.47 1.35L5.41 20z\"/>\n",
              "  </svg>\n",
              "      </button>\n",
              "      \n",
              "  <style>\n",
              "    .colab-df-container {\n",
              "      display:flex;\n",
              "      flex-wrap:wrap;\n",
              "      gap: 12px;\n",
              "    }\n",
              "\n",
              "    .colab-df-convert {\n",
              "      background-color: #E8F0FE;\n",
              "      border: none;\n",
              "      border-radius: 50%;\n",
              "      cursor: pointer;\n",
              "      display: none;\n",
              "      fill: #1967D2;\n",
              "      height: 32px;\n",
              "      padding: 0 0 0 0;\n",
              "      width: 32px;\n",
              "    }\n",
              "\n",
              "    .colab-df-convert:hover {\n",
              "      background-color: #E2EBFA;\n",
              "      box-shadow: 0px 1px 2px rgba(60, 64, 67, 0.3), 0px 1px 3px 1px rgba(60, 64, 67, 0.15);\n",
              "      fill: #174EA6;\n",
              "    }\n",
              "\n",
              "    [theme=dark] .colab-df-convert {\n",
              "      background-color: #3B4455;\n",
              "      fill: #D2E3FC;\n",
              "    }\n",
              "\n",
              "    [theme=dark] .colab-df-convert:hover {\n",
              "      background-color: #434B5C;\n",
              "      box-shadow: 0px 1px 3px 1px rgba(0, 0, 0, 0.15);\n",
              "      filter: drop-shadow(0px 1px 2px rgba(0, 0, 0, 0.3));\n",
              "      fill: #FFFFFF;\n",
              "    }\n",
              "  </style>\n",
              "\n",
              "      <script>\n",
              "        const buttonEl =\n",
              "          document.querySelector('#df-8627437c-43b3-4420-aa77-b49e70c839c9 button.colab-df-convert');\n",
              "        buttonEl.style.display =\n",
              "          google.colab.kernel.accessAllowed ? 'block' : 'none';\n",
              "\n",
              "        async function convertToInteractive(key) {\n",
              "          const element = document.querySelector('#df-8627437c-43b3-4420-aa77-b49e70c839c9');\n",
              "          const dataTable =\n",
              "            await google.colab.kernel.invokeFunction('convertToInteractive',\n",
              "                                                     [key], {});\n",
              "          if (!dataTable) return;\n",
              "\n",
              "          const docLinkHtml = 'Like what you see? Visit the ' +\n",
              "            '<a target=\"_blank\" href=https://colab.research.google.com/notebooks/data_table.ipynb>data table notebook</a>'\n",
              "            + ' to learn more about interactive tables.';\n",
              "          element.innerHTML = '';\n",
              "          dataTable['output_type'] = 'display_data';\n",
              "          await google.colab.output.renderOutput(dataTable, element);\n",
              "          const docLink = document.createElement('div');\n",
              "          docLink.innerHTML = docLinkHtml;\n",
              "          element.appendChild(docLink);\n",
              "        }\n",
              "      </script>\n",
              "    </div>\n",
              "  </div>\n",
              "  "
            ]
          },
          "metadata": {},
          "execution_count": 57
        }
      ]
    },
    {
      "cell_type": "markdown",
      "source": [
        "### Bivariate analysis"
      ],
      "metadata": {
        "id": "r00g3VLnC_KV"
      }
    },
    {
      "cell_type": "code",
      "source": [
        "# Finding the correlation of the various attributes in the titanic dataset\n",
        "corr = titanic_df.corr()\n",
        "\n",
        "# Correlation dataframe\n",
        "corr"
      ],
      "metadata": {
        "colab": {
          "base_uri": "https://localhost:8080/",
          "height": 269
        },
        "id": "ZBpR-mfXTIQA",
        "outputId": "ec9154b1-e563-49d2-f851-bb272198200b"
      },
      "execution_count": 58,
      "outputs": [
        {
          "output_type": "execute_result",
          "data": {
            "text/plain": [
              "          survived    pclass       sex       age     sibsp     parch  embarked\n",
              "survived  1.000000 -0.338481 -0.543351 -0.078816 -0.035322  0.081629 -0.167675\n",
              "pclass   -0.338481  1.000000  0.131900 -0.354005  0.083081  0.018443  0.162098\n",
              "sex      -0.543351  0.131900  1.000000  0.104820 -0.114631 -0.245489  0.108262\n",
              "age      -0.078816 -0.354005  0.104820  1.000000 -0.265602 -0.188122 -0.018319\n",
              "sibsp    -0.035322  0.083081 -0.114631 -0.265602  1.000000  0.414838  0.068230\n",
              "parch     0.081629  0.018443 -0.245489 -0.188122  0.414838  1.000000  0.039798\n",
              "embarked -0.167675  0.162098  0.108262 -0.018319  0.068230  0.039798  1.000000"
            ],
            "text/html": [
              "\n",
              "  <div id=\"df-3678e5df-32f0-4e55-88a1-93208cac9abd\">\n",
              "    <div class=\"colab-df-container\">\n",
              "      <div>\n",
              "<style scoped>\n",
              "    .dataframe tbody tr th:only-of-type {\n",
              "        vertical-align: middle;\n",
              "    }\n",
              "\n",
              "    .dataframe tbody tr th {\n",
              "        vertical-align: top;\n",
              "    }\n",
              "\n",
              "    .dataframe thead th {\n",
              "        text-align: right;\n",
              "    }\n",
              "</style>\n",
              "<table border=\"1\" class=\"dataframe\">\n",
              "  <thead>\n",
              "    <tr style=\"text-align: right;\">\n",
              "      <th></th>\n",
              "      <th>survived</th>\n",
              "      <th>pclass</th>\n",
              "      <th>sex</th>\n",
              "      <th>age</th>\n",
              "      <th>sibsp</th>\n",
              "      <th>parch</th>\n",
              "      <th>embarked</th>\n",
              "    </tr>\n",
              "  </thead>\n",
              "  <tbody>\n",
              "    <tr>\n",
              "      <th>survived</th>\n",
              "      <td>1.000000</td>\n",
              "      <td>-0.338481</td>\n",
              "      <td>-0.543351</td>\n",
              "      <td>-0.078816</td>\n",
              "      <td>-0.035322</td>\n",
              "      <td>0.081629</td>\n",
              "      <td>-0.167675</td>\n",
              "    </tr>\n",
              "    <tr>\n",
              "      <th>pclass</th>\n",
              "      <td>-0.338481</td>\n",
              "      <td>1.000000</td>\n",
              "      <td>0.131900</td>\n",
              "      <td>-0.354005</td>\n",
              "      <td>0.083081</td>\n",
              "      <td>0.018443</td>\n",
              "      <td>0.162098</td>\n",
              "    </tr>\n",
              "    <tr>\n",
              "      <th>sex</th>\n",
              "      <td>-0.543351</td>\n",
              "      <td>0.131900</td>\n",
              "      <td>1.000000</td>\n",
              "      <td>0.104820</td>\n",
              "      <td>-0.114631</td>\n",
              "      <td>-0.245489</td>\n",
              "      <td>0.108262</td>\n",
              "    </tr>\n",
              "    <tr>\n",
              "      <th>age</th>\n",
              "      <td>-0.078816</td>\n",
              "      <td>-0.354005</td>\n",
              "      <td>0.104820</td>\n",
              "      <td>1.000000</td>\n",
              "      <td>-0.265602</td>\n",
              "      <td>-0.188122</td>\n",
              "      <td>-0.018319</td>\n",
              "    </tr>\n",
              "    <tr>\n",
              "      <th>sibsp</th>\n",
              "      <td>-0.035322</td>\n",
              "      <td>0.083081</td>\n",
              "      <td>-0.114631</td>\n",
              "      <td>-0.265602</td>\n",
              "      <td>1.000000</td>\n",
              "      <td>0.414838</td>\n",
              "      <td>0.068230</td>\n",
              "    </tr>\n",
              "    <tr>\n",
              "      <th>parch</th>\n",
              "      <td>0.081629</td>\n",
              "      <td>0.018443</td>\n",
              "      <td>-0.245489</td>\n",
              "      <td>-0.188122</td>\n",
              "      <td>0.414838</td>\n",
              "      <td>1.000000</td>\n",
              "      <td>0.039798</td>\n",
              "    </tr>\n",
              "    <tr>\n",
              "      <th>embarked</th>\n",
              "      <td>-0.167675</td>\n",
              "      <td>0.162098</td>\n",
              "      <td>0.108262</td>\n",
              "      <td>-0.018319</td>\n",
              "      <td>0.068230</td>\n",
              "      <td>0.039798</td>\n",
              "      <td>1.000000</td>\n",
              "    </tr>\n",
              "  </tbody>\n",
              "</table>\n",
              "</div>\n",
              "      <button class=\"colab-df-convert\" onclick=\"convertToInteractive('df-3678e5df-32f0-4e55-88a1-93208cac9abd')\"\n",
              "              title=\"Convert this dataframe to an interactive table.\"\n",
              "              style=\"display:none;\">\n",
              "        \n",
              "  <svg xmlns=\"http://www.w3.org/2000/svg\" height=\"24px\"viewBox=\"0 0 24 24\"\n",
              "       width=\"24px\">\n",
              "    <path d=\"M0 0h24v24H0V0z\" fill=\"none\"/>\n",
              "    <path d=\"M18.56 5.44l.94 2.06.94-2.06 2.06-.94-2.06-.94-.94-2.06-.94 2.06-2.06.94zm-11 1L8.5 8.5l.94-2.06 2.06-.94-2.06-.94L8.5 2.5l-.94 2.06-2.06.94zm10 10l.94 2.06.94-2.06 2.06-.94-2.06-.94-.94-2.06-.94 2.06-2.06.94z\"/><path d=\"M17.41 7.96l-1.37-1.37c-.4-.4-.92-.59-1.43-.59-.52 0-1.04.2-1.43.59L10.3 9.45l-7.72 7.72c-.78.78-.78 2.05 0 2.83L4 21.41c.39.39.9.59 1.41.59.51 0 1.02-.2 1.41-.59l7.78-7.78 2.81-2.81c.8-.78.8-2.07 0-2.86zM5.41 20L4 18.59l7.72-7.72 1.47 1.35L5.41 20z\"/>\n",
              "  </svg>\n",
              "      </button>\n",
              "      \n",
              "  <style>\n",
              "    .colab-df-container {\n",
              "      display:flex;\n",
              "      flex-wrap:wrap;\n",
              "      gap: 12px;\n",
              "    }\n",
              "\n",
              "    .colab-df-convert {\n",
              "      background-color: #E8F0FE;\n",
              "      border: none;\n",
              "      border-radius: 50%;\n",
              "      cursor: pointer;\n",
              "      display: none;\n",
              "      fill: #1967D2;\n",
              "      height: 32px;\n",
              "      padding: 0 0 0 0;\n",
              "      width: 32px;\n",
              "    }\n",
              "\n",
              "    .colab-df-convert:hover {\n",
              "      background-color: #E2EBFA;\n",
              "      box-shadow: 0px 1px 2px rgba(60, 64, 67, 0.3), 0px 1px 3px 1px rgba(60, 64, 67, 0.15);\n",
              "      fill: #174EA6;\n",
              "    }\n",
              "\n",
              "    [theme=dark] .colab-df-convert {\n",
              "      background-color: #3B4455;\n",
              "      fill: #D2E3FC;\n",
              "    }\n",
              "\n",
              "    [theme=dark] .colab-df-convert:hover {\n",
              "      background-color: #434B5C;\n",
              "      box-shadow: 0px 1px 3px 1px rgba(0, 0, 0, 0.15);\n",
              "      filter: drop-shadow(0px 1px 2px rgba(0, 0, 0, 0.3));\n",
              "      fill: #FFFFFF;\n",
              "    }\n",
              "  </style>\n",
              "\n",
              "      <script>\n",
              "        const buttonEl =\n",
              "          document.querySelector('#df-3678e5df-32f0-4e55-88a1-93208cac9abd button.colab-df-convert');\n",
              "        buttonEl.style.display =\n",
              "          google.colab.kernel.accessAllowed ? 'block' : 'none';\n",
              "\n",
              "        async function convertToInteractive(key) {\n",
              "          const element = document.querySelector('#df-3678e5df-32f0-4e55-88a1-93208cac9abd');\n",
              "          const dataTable =\n",
              "            await google.colab.kernel.invokeFunction('convertToInteractive',\n",
              "                                                     [key], {});\n",
              "          if (!dataTable) return;\n",
              "\n",
              "          const docLinkHtml = 'Like what you see? Visit the ' +\n",
              "            '<a target=\"_blank\" href=https://colab.research.google.com/notebooks/data_table.ipynb>data table notebook</a>'\n",
              "            + ' to learn more about interactive tables.';\n",
              "          element.innerHTML = '';\n",
              "          dataTable['output_type'] = 'display_data';\n",
              "          await google.colab.output.renderOutput(dataTable, element);\n",
              "          const docLink = document.createElement('div');\n",
              "          docLink.innerHTML = docLinkHtml;\n",
              "          element.appendChild(docLink);\n",
              "        }\n",
              "      </script>\n",
              "    </div>\n",
              "  </div>\n",
              "  "
            ]
          },
          "metadata": {},
          "execution_count": 58
        }
      ]
    },
    {
      "cell_type": "markdown",
      "source": [
        "Most attributes in the datframe are loosely corelated to thw target variable (survived). Sex had a good correlation to the survival . This indicates that the gender of a passenger most likely influenced the likelyhood one survived or not.\n",
        "\n",
        "The correlations shall be explored further by analysing the VIF scores of the different attributes"
      ],
      "metadata": {
        "id": "7hhBHIGOTco7"
      }
    },
    {
      "cell_type": "code",
      "source": [
        "# python suppress exponential notation\n",
        "pd.set_option('display.float_format', lambda x: '%.3f' % x)\n",
        "\n",
        "# VIF scores\n",
        "pd.DataFrame(np.linalg.inv(corr.values), index = corr.index, columns=corr.columns)\n"
      ],
      "metadata": {
        "colab": {
          "base_uri": "https://localhost:8080/",
          "height": 269
        },
        "id": "uoSHvHUEWBvg",
        "outputId": "9fa15d96-c92a-4ba6-de29-bb7a199ae9bd"
      },
      "execution_count": 59,
      "outputs": [
        {
          "output_type": "execute_result",
          "data": {
            "text/plain": [
              "          survived  pclass    sex    age  sibsp  parch  embarked\n",
              "survived     1.667   0.526  0.824  0.283  0.162  0.039     0.098\n",
              "pclass       0.526   1.376  0.078  0.538  0.050  0.037    -0.138\n",
              "sex          0.824   0.078  1.520  0.007  0.090  0.270    -0.056\n",
              "age          0.283   0.538  0.007  1.303  0.272  0.102    -0.039\n",
              "sibsp        0.162   0.050  0.090  0.272  1.283 -0.471    -0.055\n",
              "parch        0.039   0.037  0.270  0.102 -0.471  1.279    -0.046\n",
              "embarked     0.098  -0.138 -0.056 -0.039 -0.055 -0.046     1.050"
            ],
            "text/html": [
              "\n",
              "  <div id=\"df-3ada8669-7c67-4eb3-bab7-7704ed1702c7\">\n",
              "    <div class=\"colab-df-container\">\n",
              "      <div>\n",
              "<style scoped>\n",
              "    .dataframe tbody tr th:only-of-type {\n",
              "        vertical-align: middle;\n",
              "    }\n",
              "\n",
              "    .dataframe tbody tr th {\n",
              "        vertical-align: top;\n",
              "    }\n",
              "\n",
              "    .dataframe thead th {\n",
              "        text-align: right;\n",
              "    }\n",
              "</style>\n",
              "<table border=\"1\" class=\"dataframe\">\n",
              "  <thead>\n",
              "    <tr style=\"text-align: right;\">\n",
              "      <th></th>\n",
              "      <th>survived</th>\n",
              "      <th>pclass</th>\n",
              "      <th>sex</th>\n",
              "      <th>age</th>\n",
              "      <th>sibsp</th>\n",
              "      <th>parch</th>\n",
              "      <th>embarked</th>\n",
              "    </tr>\n",
              "  </thead>\n",
              "  <tbody>\n",
              "    <tr>\n",
              "      <th>survived</th>\n",
              "      <td>1.667</td>\n",
              "      <td>0.526</td>\n",
              "      <td>0.824</td>\n",
              "      <td>0.283</td>\n",
              "      <td>0.162</td>\n",
              "      <td>0.039</td>\n",
              "      <td>0.098</td>\n",
              "    </tr>\n",
              "    <tr>\n",
              "      <th>pclass</th>\n",
              "      <td>0.526</td>\n",
              "      <td>1.376</td>\n",
              "      <td>0.078</td>\n",
              "      <td>0.538</td>\n",
              "      <td>0.050</td>\n",
              "      <td>0.037</td>\n",
              "      <td>-0.138</td>\n",
              "    </tr>\n",
              "    <tr>\n",
              "      <th>sex</th>\n",
              "      <td>0.824</td>\n",
              "      <td>0.078</td>\n",
              "      <td>1.520</td>\n",
              "      <td>0.007</td>\n",
              "      <td>0.090</td>\n",
              "      <td>0.270</td>\n",
              "      <td>-0.056</td>\n",
              "    </tr>\n",
              "    <tr>\n",
              "      <th>age</th>\n",
              "      <td>0.283</td>\n",
              "      <td>0.538</td>\n",
              "      <td>0.007</td>\n",
              "      <td>1.303</td>\n",
              "      <td>0.272</td>\n",
              "      <td>0.102</td>\n",
              "      <td>-0.039</td>\n",
              "    </tr>\n",
              "    <tr>\n",
              "      <th>sibsp</th>\n",
              "      <td>0.162</td>\n",
              "      <td>0.050</td>\n",
              "      <td>0.090</td>\n",
              "      <td>0.272</td>\n",
              "      <td>1.283</td>\n",
              "      <td>-0.471</td>\n",
              "      <td>-0.055</td>\n",
              "    </tr>\n",
              "    <tr>\n",
              "      <th>parch</th>\n",
              "      <td>0.039</td>\n",
              "      <td>0.037</td>\n",
              "      <td>0.270</td>\n",
              "      <td>0.102</td>\n",
              "      <td>-0.471</td>\n",
              "      <td>1.279</td>\n",
              "      <td>-0.046</td>\n",
              "    </tr>\n",
              "    <tr>\n",
              "      <th>embarked</th>\n",
              "      <td>0.098</td>\n",
              "      <td>-0.138</td>\n",
              "      <td>-0.056</td>\n",
              "      <td>-0.039</td>\n",
              "      <td>-0.055</td>\n",
              "      <td>-0.046</td>\n",
              "      <td>1.050</td>\n",
              "    </tr>\n",
              "  </tbody>\n",
              "</table>\n",
              "</div>\n",
              "      <button class=\"colab-df-convert\" onclick=\"convertToInteractive('df-3ada8669-7c67-4eb3-bab7-7704ed1702c7')\"\n",
              "              title=\"Convert this dataframe to an interactive table.\"\n",
              "              style=\"display:none;\">\n",
              "        \n",
              "  <svg xmlns=\"http://www.w3.org/2000/svg\" height=\"24px\"viewBox=\"0 0 24 24\"\n",
              "       width=\"24px\">\n",
              "    <path d=\"M0 0h24v24H0V0z\" fill=\"none\"/>\n",
              "    <path d=\"M18.56 5.44l.94 2.06.94-2.06 2.06-.94-2.06-.94-.94-2.06-.94 2.06-2.06.94zm-11 1L8.5 8.5l.94-2.06 2.06-.94-2.06-.94L8.5 2.5l-.94 2.06-2.06.94zm10 10l.94 2.06.94-2.06 2.06-.94-2.06-.94-.94-2.06-.94 2.06-2.06.94z\"/><path d=\"M17.41 7.96l-1.37-1.37c-.4-.4-.92-.59-1.43-.59-.52 0-1.04.2-1.43.59L10.3 9.45l-7.72 7.72c-.78.78-.78 2.05 0 2.83L4 21.41c.39.39.9.59 1.41.59.51 0 1.02-.2 1.41-.59l7.78-7.78 2.81-2.81c.8-.78.8-2.07 0-2.86zM5.41 20L4 18.59l7.72-7.72 1.47 1.35L5.41 20z\"/>\n",
              "  </svg>\n",
              "      </button>\n",
              "      \n",
              "  <style>\n",
              "    .colab-df-container {\n",
              "      display:flex;\n",
              "      flex-wrap:wrap;\n",
              "      gap: 12px;\n",
              "    }\n",
              "\n",
              "    .colab-df-convert {\n",
              "      background-color: #E8F0FE;\n",
              "      border: none;\n",
              "      border-radius: 50%;\n",
              "      cursor: pointer;\n",
              "      display: none;\n",
              "      fill: #1967D2;\n",
              "      height: 32px;\n",
              "      padding: 0 0 0 0;\n",
              "      width: 32px;\n",
              "    }\n",
              "\n",
              "    .colab-df-convert:hover {\n",
              "      background-color: #E2EBFA;\n",
              "      box-shadow: 0px 1px 2px rgba(60, 64, 67, 0.3), 0px 1px 3px 1px rgba(60, 64, 67, 0.15);\n",
              "      fill: #174EA6;\n",
              "    }\n",
              "\n",
              "    [theme=dark] .colab-df-convert {\n",
              "      background-color: #3B4455;\n",
              "      fill: #D2E3FC;\n",
              "    }\n",
              "\n",
              "    [theme=dark] .colab-df-convert:hover {\n",
              "      background-color: #434B5C;\n",
              "      box-shadow: 0px 1px 3px 1px rgba(0, 0, 0, 0.15);\n",
              "      filter: drop-shadow(0px 1px 2px rgba(0, 0, 0, 0.3));\n",
              "      fill: #FFFFFF;\n",
              "    }\n",
              "  </style>\n",
              "\n",
              "      <script>\n",
              "        const buttonEl =\n",
              "          document.querySelector('#df-3ada8669-7c67-4eb3-bab7-7704ed1702c7 button.colab-df-convert');\n",
              "        buttonEl.style.display =\n",
              "          google.colab.kernel.accessAllowed ? 'block' : 'none';\n",
              "\n",
              "        async function convertToInteractive(key) {\n",
              "          const element = document.querySelector('#df-3ada8669-7c67-4eb3-bab7-7704ed1702c7');\n",
              "          const dataTable =\n",
              "            await google.colab.kernel.invokeFunction('convertToInteractive',\n",
              "                                                     [key], {});\n",
              "          if (!dataTable) return;\n",
              "\n",
              "          const docLinkHtml = 'Like what you see? Visit the ' +\n",
              "            '<a target=\"_blank\" href=https://colab.research.google.com/notebooks/data_table.ipynb>data table notebook</a>'\n",
              "            + ' to learn more about interactive tables.';\n",
              "          element.innerHTML = '';\n",
              "          dataTable['output_type'] = 'display_data';\n",
              "          await google.colab.output.renderOutput(dataTable, element);\n",
              "          const docLink = document.createElement('div');\n",
              "          docLink.innerHTML = docLinkHtml;\n",
              "          element.appendChild(docLink);\n",
              "        }\n",
              "      </script>\n",
              "    </div>\n",
              "  </div>\n",
              "  "
            ]
          },
          "metadata": {},
          "execution_count": 59
        }
      ]
    },
    {
      "cell_type": "markdown",
      "source": [
        "All VIF scores are below 5. There is no multicolinearity issue among the different attributes in the titanic dataset\n",
        "\n",
        "Dimension reduction techniques shlla not be applied due to the small number of features in the titanic dataset"
      ],
      "metadata": {
        "id": "nG9q_Bw3WJD5"
      }
    },
    {
      "cell_type": "markdown",
      "source": [
        "## Implementing solution"
      ],
      "metadata": {
        "id": "7VSbqtdGegBo"
      }
    },
    {
      "cell_type": "markdown",
      "source": [
        "To predict the number of passengers that survived and those that did not, the train dataset shall be split into the a train and test set. The train set shall be be used to train a KNN model using first 80% of data as train 20% as test, the 70% of data as train and 30% as test and finally 60% of data as train and 40% as test\n",
        "\n",
        "The model shall be optimized and used to predict the test dataset that had no information whether a passenger survived or did not."
      ],
      "metadata": {
        "id": "G6_S4VGnOqqZ"
      }
    },
    {
      "cell_type": "markdown",
      "source": [
        "### KNN Model 1 (80% train, 20% test)"
      ],
      "metadata": {
        "id": "GGu0IH0IRpuh"
      }
    },
    {
      "cell_type": "code",
      "source": [
        "# Splitting the titanic dataframe to get the target variables and the feature variables\n",
        "# Feature variables\n",
        "X = titanic_df.drop(columns = ['survived'], axis =1)\n",
        "\n",
        "# Target varibale\n",
        "y = titanic_df['survived']"
      ],
      "metadata": {
        "id": "byFokQeAee8R"
      },
      "execution_count": 62,
      "outputs": []
    },
    {
      "cell_type": "code",
      "source": [
        "# Splitting the target and feature variables  to get 80% of the data used in training the \n",
        "# Model and 20% of the data to tests the model performance\n",
        "\n",
        "# Train test split\n",
        "X_train, X_test, y_train, y_test = train_test_split(X, y, test_size=0.20)"
      ],
      "metadata": {
        "id": "XzTQKZIoQEpx"
      },
      "execution_count": 63,
      "outputs": []
    },
    {
      "cell_type": "code",
      "source": [
        "# Feature scaling\n",
        "# The feature variables are scaled to ensure that they are all uniformly evaluated\n",
        "\n",
        "# Specifying the standard scalar\n",
        "scaler = StandardScaler()\n",
        "\n",
        "# Fitting the X train data to the scaler\n",
        "scaler.fit(X_train)\n"
      ],
      "metadata": {
        "colab": {
          "base_uri": "https://localhost:8080/"
        },
        "id": "t-GEgyXtQq-5",
        "outputId": "816c83c2-44e6-4274-cf10-27eca8d586c2"
      },
      "execution_count": 64,
      "outputs": [
        {
          "output_type": "execute_result",
          "data": {
            "text/plain": [
              "StandardScaler()"
            ]
          },
          "metadata": {},
          "execution_count": 64
        }
      ]
    },
    {
      "cell_type": "code",
      "source": [
        "# Scaler transformation of the x train data\n",
        "X_train = scaler.transform(X_train)\n",
        "\n",
        "# Scaler transformation  of th x_test data\n",
        "X_test = scaler.transform(X_test)"
      ],
      "metadata": {
        "id": "hf1mcJB0RaLa"
      },
      "execution_count": 65,
      "outputs": []
    },
    {
      "cell_type": "code",
      "source": [
        "# Finding optimum n_neighbours in a range from (1-75) n_neighbours\n",
        "# This shall be done by estimiating the error rate for the different n_neighbours\n",
        "\n",
        "# Defining empty error rate list\n",
        "error_rate = []\n",
        "\n",
        "# Finding error rates for the different values of n_neighbours\n",
        "for i in range(1,75):\n",
        "  knn1 = KNeighborsClassifier(n_neighbors=i)\n",
        "  knn1.fit(X_train, y_train)\n",
        "  pred = knn1.predict(X_test)\n",
        "  error_rate.append(np.mean(pred != y_test))"
      ],
      "metadata": {
        "id": "vbq1D2ilRmwn"
      },
      "execution_count": 66,
      "outputs": []
    },
    {
      "cell_type": "code",
      "source": [
        "# Plotting the erro rates versus the n_neighbour values to see which n neighbour gets the lowest error rate\n",
        "\n",
        "# Plotting using matplotlibt error rates vs n_neighbour values\n",
        "plt.figure(figsize= (10, 6))\n",
        "plt.plot(range(1, 75), error_rate, color = 'red', linestyle='dashed', \n",
        "         marker = 'o', markerfacecolor = 'green', markersize = 11)\n",
        "plt.title('error rate vs n_neighbor values')\n",
        "plt.xlabel('n_neighbor values')\n",
        "plt.ylabel('error rate')\n"
      ],
      "metadata": {
        "colab": {
          "base_uri": "https://localhost:8080/",
          "height": 423
        },
        "id": "ZpVwZyKNgNfI",
        "outputId": "a24165ab-ca9d-4c60-fc37-66115fbb55c8"
      },
      "execution_count": 67,
      "outputs": [
        {
          "output_type": "execute_result",
          "data": {
            "text/plain": [
              "Text(0, 0.5, 'error rate')"
            ]
          },
          "metadata": {},
          "execution_count": 67
        },
        {
          "output_type": "display_data",
          "data": {
            "text/plain": [
              "<Figure size 720x432 with 1 Axes>"
            ],
            "image/png": "[encoded data removed]"
          },
          "metadata": {
            "needs_background": "light"
          }
        }
      ]
    },
    {
      "cell_type": "code",
      "source": [
        "# Calculate optimum n_neighbour value from graph\n",
        "optimum_neighbour_val = error_rate.index(min(error_rate))+1\n",
        "\n",
        "# Print minimum error rate and optimum n_neigbour value\n",
        "print(f'minimum error rate: {min(error_rate)}, optimum n_neighbour value: {optimum_neighbour_val}')"
      ],
      "metadata": {
        "colab": {
          "base_uri": "https://localhost:8080/"
        },
        "id": "-Z8DyWrShrQZ",
        "outputId": "68c2c2f8-04cc-4eac-8f68-029f19a381e2"
      },
      "execution_count": 68,
      "outputs": [
        {
          "output_type": "stream",
          "name": "stdout",
          "text": [
            "minimum error rate: 0.18435754189944134, optimum n_neighbour value: 36\n"
          ]
        }
      ]
    },
    {
      "cell_type": "code",
      "source": [
        "# Creating the KNN model with; 80% of data as train set\n",
        "# N_neighbours values = 36\n",
        "\n",
        "knn1 = KNeighborsClassifier(n_neighbors=optimum_neighbour_val)\n",
        "knn1.fit(X_train, y_train)"
      ],
      "metadata": {
        "colab": {
          "base_uri": "https://localhost:8080/"
        },
        "id": "ug49tf7zixh9",
        "outputId": "2cd8fcc0-543b-422f-c9cf-7424a74fc83c"
      },
      "execution_count": 69,
      "outputs": [
        {
          "output_type": "execute_result",
          "data": {
            "text/plain": [
              "KNeighborsClassifier(n_neighbors=36)"
            ]
          },
          "metadata": {},
          "execution_count": 69
        }
      ]
    },
    {
      "cell_type": "code",
      "source": [
        "# Making predictions from the test set\n",
        "#\n",
        "pred = knn1.predict(X_test)"
      ],
      "metadata": {
        "id": "y2D2EILcjLRH"
      },
      "execution_count": 70,
      "outputs": []
    },
    {
      "cell_type": "code",
      "source": [
        "# Evaluating the alghorithim\n",
        "# The metrcs to evaluate the algohrithim will be the confusion matrix, f1_score, recall, and precision\n",
        "\n",
        "# Importing confusion matrix from sklearn metrics library\n",
        "from sklearn.metrics import confusion_matrix\n",
        "\n",
        "# Confusion matrix\n",
        "print(confusion_matrix(y_test, pred))"
      ],
      "metadata": {
        "colab": {
          "base_uri": "https://localhost:8080/"
        },
        "id": "Zki09b41jZQu",
        "outputId": "b291508d-0c9e-4677-bc5b-e40abff08969"
      },
      "execution_count": 71,
      "outputs": [
        {
          "output_type": "stream",
          "name": "stdout",
          "text": [
            "[[104  12]\n",
            " [ 21  42]]\n"
          ]
        }
      ]
    },
    {
      "cell_type": "markdown",
      "source": [
        "Confusion matrix interpretation:\n",
        "\n",
        "1. True positive = 104\n",
        "2. True Negative = 42\n",
        "3. False positive = 21\n",
        "4. False negative = 12"
      ],
      "metadata": {
        "id": "jRAIoVjzkUtq"
      }
    },
    {
      "cell_type": "code",
      "source": [
        "# Importing classification report from sklearn metrics library\n",
        "from sklearn.metrics import classification_report\n",
        "\n",
        "# Printing out the classification report of the alghorithim\n",
        "print(classification_report(y_test, pred))"
      ],
      "metadata": {
        "colab": {
          "base_uri": "https://localhost:8080/"
        },
        "id": "-aJbZqXNkj36",
        "outputId": "d5100caf-c932-4226-86fe-5288d9caf97e"
      },
      "execution_count": 72,
      "outputs": [
        {
          "output_type": "stream",
          "name": "stdout",
          "text": [
            "              precision    recall  f1-score   support\n",
            "\n",
            "           0       0.83      0.90      0.86       116\n",
            "           1       0.78      0.67      0.72        63\n",
            "\n",
            "    accuracy                           0.82       179\n",
            "   macro avg       0.80      0.78      0.79       179\n",
            "weighted avg       0.81      0.82      0.81       179\n",
            "\n"
          ]
        }
      ]
    },
    {
      "cell_type": "markdown",
      "source": [
        "The model had an accuracy score of 0.82\n",
        "\n",
        "For predicting passengers that survived and those that did not, it had almost similar precision(0.78 and 0.83 respectively)\n",
        "\n",
        "The model had a poor recall in the prediction of passengers that survived\n",
        "\n",
        "In general, from the f1_score, the KNN model using 80% of the data in the train and 20% in the test with 36 n_neighbours performed a lot better predicting passengers that did not survive compared to those that survived"
      ],
      "metadata": {
        "id": "vyeUqvMNlLru"
      }
    },
    {
      "cell_type": "markdown",
      "source": [
        "### KNN Model 2 (70% train 30% test)"
      ],
      "metadata": {
        "id": "nnDVhuXAmKcn"
      }
    },
    {
      "cell_type": "code",
      "source": [
        "# Splitting the target and feature variables  to get 70% of the data used in training the \n",
        "# Model and 30% of the data to tests the model performance\n",
        "\n",
        "# Train test split\n",
        "X_train, X_test, y_train, y_test = train_test_split(X, y, test_size=0.30)"
      ],
      "metadata": {
        "id": "0kIw-VIsmP0z"
      },
      "execution_count": 73,
      "outputs": []
    },
    {
      "cell_type": "code",
      "source": [
        "# Feature scaling\n",
        "# The feature variables are scaled to ensure that they are all uniformly evaluated\n",
        "\n",
        "# Specifying the standard scalar\n",
        "scaler = StandardScaler()\n",
        "\n",
        "# Fitting the X train data to the scaler\n",
        "scaler.fit(X_train)\n"
      ],
      "metadata": {
        "colab": {
          "base_uri": "https://localhost:8080/"
        },
        "id": "lmu79fkLmUyr",
        "outputId": "ed3242c8-3de0-44dd-e5a0-c9b19f80bd65"
      },
      "execution_count": 74,
      "outputs": [
        {
          "output_type": "execute_result",
          "data": {
            "text/plain": [
              "StandardScaler()"
            ]
          },
          "metadata": {},
          "execution_count": 74
        }
      ]
    },
    {
      "cell_type": "code",
      "source": [
        "# Scaler transformation of the x train data\n",
        "X_train = scaler.transform(X_train)\n",
        "\n",
        "# Scaler transformation  of th x_test data\n",
        "X_test = scaler.transform(X_test)"
      ],
      "metadata": {
        "id": "dpzquB_bmbaf"
      },
      "execution_count": 75,
      "outputs": []
    },
    {
      "cell_type": "code",
      "source": [
        "# Finding optimum n_neighbours in a range from (1-75) n_neighbours\n",
        "# This shall be done by estimiating the error rate for the different n_neighbours\n",
        "\n",
        "# Defining empty error rate list\n",
        "error_rate = []\n",
        "\n",
        "# Finding error rates for the different values of n_neighbours\n",
        "for i in range(1,75):\n",
        "  knn2 = KNeighborsClassifier(n_neighbors=i)\n",
        "  knn2.fit(X_train, y_train)\n",
        "  pred = knn2.predict(X_test)\n",
        "  error_rate.append(np.mean(pred != y_test))"
      ],
      "metadata": {
        "id": "O_N40xOUmfps"
      },
      "execution_count": 76,
      "outputs": []
    },
    {
      "cell_type": "code",
      "source": [
        "# Plotting the erro rates versus the n_neighbour values to see which n neighbour gets the lowest error rate\n",
        "\n",
        "# Plotting using matplotlibt error rates vs n_neighbour values\n",
        "plt.figure(figsize= (10, 6))\n",
        "plt.plot(range(1, 75), error_rate, color = 'red', linestyle='dashed', \n",
        "         marker = 'o', markerfacecolor = 'green', markersize = 11)\n",
        "plt.title('error rate vs n_neighbor values')\n",
        "plt.xlabel('n_neighbor values')\n",
        "plt.ylabel('error rate')\n"
      ],
      "metadata": {
        "colab": {
          "base_uri": "https://localhost:8080/",
          "height": 423
        },
        "id": "_ojiZFD4mfjU",
        "outputId": "c6256eb8-902b-4f58-fb40-3c938df5b304"
      },
      "execution_count": 77,
      "outputs": [
        {
          "output_type": "execute_result",
          "data": {
            "text/plain": [
              "Text(0, 0.5, 'error rate')"
            ]
          },
          "metadata": {},
          "execution_count": 77
        },
        {
          "output_type": "display_data",
          "data": {
            "text/plain": [
              "<Figure size 720x432 with 1 Axes>"
            ],
            "image/png": "[encoded data removed]"
          },
          "metadata": {
            "needs_background": "light"
          }
        }
      ]
    },
    {
      "cell_type": "code",
      "source": [
        "# Calculate optimum n_neighbour value from graph\n",
        "optimum_neighbour_val = error_rate.index(min(error_rate))+1\n",
        "\n",
        "# Print minimum error rate and optimum n_neigbour value\n",
        "print(f'minimum error rate: {min(error_rate)}, optimum n_neighbour value: {optimum_neighbour_val}')"
      ],
      "metadata": {
        "colab": {
          "base_uri": "https://localhost:8080/"
        },
        "id": "ytdlBmd0mfZK",
        "outputId": "bf2d0144-dab1-4fcb-e6e1-b1a2248a1413"
      },
      "execution_count": 78,
      "outputs": [
        {
          "output_type": "stream",
          "name": "stdout",
          "text": [
            "minimum error rate: 0.20149253731343283, optimum n_neighbour value: 56\n"
          ]
        }
      ]
    },
    {
      "cell_type": "code",
      "source": [
        "# Creating the KNN model with; 70% of data as train set\n",
        "# N_neighbours values = 56\n",
        "\n",
        "knn2 = KNeighborsClassifier(n_neighbors=optimum_neighbour_val)\n",
        "knn2.fit(X_train, y_train)"
      ],
      "metadata": {
        "colab": {
          "base_uri": "https://localhost:8080/"
        },
        "id": "wRPXX904mwS5",
        "outputId": "a209db59-c807-4e08-f9f8-245cdca372e8"
      },
      "execution_count": 79,
      "outputs": [
        {
          "output_type": "execute_result",
          "data": {
            "text/plain": [
              "KNeighborsClassifier(n_neighbors=56)"
            ]
          },
          "metadata": {},
          "execution_count": 79
        }
      ]
    },
    {
      "cell_type": "code",
      "source": [
        "# Making predictions from the test set\n",
        "#\n",
        "pred = knn2.predict(X_test)"
      ],
      "metadata": {
        "id": "4Xlwerl0mwJi"
      },
      "execution_count": 80,
      "outputs": []
    },
    {
      "cell_type": "code",
      "source": [
        "# Evaluating the alghorithim\n",
        "# The metrcs to evaluate the algohrithim will be the confusion matrix, f1_score, recall, and precision\n",
        "\n",
        "# Importing confusion matrix from sklearn metrics library\n",
        "from sklearn.metrics import confusion_matrix\n",
        "\n",
        "# Confusion matrix\n",
        "print(confusion_matrix(y_test, pred))"
      ],
      "metadata": {
        "colab": {
          "base_uri": "https://localhost:8080/"
        },
        "id": "liNE3APYm-bl",
        "outputId": "455f754d-034d-4d14-fc9f-18da3b7ff81b"
      },
      "execution_count": 81,
      "outputs": [
        {
          "output_type": "stream",
          "name": "stdout",
          "text": [
            "[[145  25]\n",
            " [ 29  69]]\n"
          ]
        }
      ]
    },
    {
      "cell_type": "markdown",
      "source": [
        "Confusion matrix interpretation:\n",
        "\n",
        "1. True positive = 145\n",
        "2. True Negative = 69\n",
        "3. False positive = 29\n",
        "4. False negative = 25"
      ],
      "metadata": {
        "id": "pXrrbhCmnF1_"
      }
    },
    {
      "cell_type": "code",
      "source": [
        "# Importing classification report from sklearn metrics library\n",
        "from sklearn.metrics import classification_report\n",
        "\n",
        "# Printing out the classification report of the alghorithim\n",
        "print(classification_report(y_test, pred))"
      ],
      "metadata": {
        "colab": {
          "base_uri": "https://localhost:8080/"
        },
        "id": "-wTM2rRYm-X-",
        "outputId": "680a2ebe-eec2-43ca-8e7d-661adfb93c09"
      },
      "execution_count": 82,
      "outputs": [
        {
          "output_type": "stream",
          "name": "stdout",
          "text": [
            "              precision    recall  f1-score   support\n",
            "\n",
            "           0       0.83      0.85      0.84       170\n",
            "           1       0.73      0.70      0.72        98\n",
            "\n",
            "    accuracy                           0.80       268\n",
            "   macro avg       0.78      0.78      0.78       268\n",
            "weighted avg       0.80      0.80      0.80       268\n",
            "\n"
          ]
        }
      ]
    },
    {
      "cell_type": "markdown",
      "source": [
        "The model had an accuracy score of 0.80 lower than the KNN model 1\n",
        "\n",
        "It performed poorly predicting passengers that survived compared to predicting those that did not\n",
        "\n",
        "The model had a poor recall in the prediction of passengers that survived\n",
        "\n",
        "In general, from the f1_score, the KNN model using 70% of the data in the train and 30% in the test with 53 n_neighbours performed a lot better predicting passengers that did not survive compared to those that survived\n",
        "\n",
        "KNN Model 2 performed worser than KNN Model 1"
      ],
      "metadata": {
        "id": "Q9jqfkTynYQY"
      }
    },
    {
      "cell_type": "markdown",
      "source": [
        "### KNN Model 3 (60% train 40% test)"
      ],
      "metadata": {
        "id": "0Q3GnRTsn5do"
      }
    },
    {
      "cell_type": "code",
      "source": [
        "# Splitting the target and feature variables  to get 60% of the data used in training the \n",
        "# Model and 40% of the data to tests the model performance\n",
        "\n",
        "# Train test split\n",
        "X_train, X_test, y_train, y_test = train_test_split(X, y, test_size=0.40)"
      ],
      "metadata": {
        "id": "9RYfF4kpn9-p"
      },
      "execution_count": 83,
      "outputs": []
    },
    {
      "cell_type": "code",
      "source": [
        "# Feature scaling\n",
        "# The feature variables are scaled to ensure that they are all uniformly evaluated\n",
        "\n",
        "# Specifying the standard scalar\n",
        "scaler = StandardScaler()\n",
        "\n",
        "# Fitting the X train data to the scaler\n",
        "scaler.fit(X_train)\n"
      ],
      "metadata": {
        "colab": {
          "base_uri": "https://localhost:8080/"
        },
        "id": "Id8bTAtYoD5b",
        "outputId": "ea49fd40-eebb-416c-b987-6e203568dcae"
      },
      "execution_count": 84,
      "outputs": [
        {
          "output_type": "execute_result",
          "data": {
            "text/plain": [
              "StandardScaler()"
            ]
          },
          "metadata": {},
          "execution_count": 84
        }
      ]
    },
    {
      "cell_type": "code",
      "source": [
        "# Scaler transformation of the x train data\n",
        "X_train = scaler.transform(X_train)\n",
        "\n",
        "# Scaler transformation  of th x_test data\n",
        "X_test = scaler.transform(X_test)"
      ],
      "metadata": {
        "id": "m17PZFzSoIMt"
      },
      "execution_count": 85,
      "outputs": []
    },
    {
      "cell_type": "code",
      "source": [
        "# Finding optimum n_neighbours in a range from (1-75) n_neighbours\n",
        "# This shall be done by estimiating the error rate for the different n_neighbours\n",
        "\n",
        "# Defining empty error rate list\n",
        "error_rate = []\n",
        "\n",
        "# Finding error rates for the different values of n_neighbours\n",
        "for i in range(1,75):\n",
        "  knn3 = KNeighborsClassifier(n_neighbors=i)\n",
        "  knn3.fit(X_train, y_train)\n",
        "  pred = knn3.predict(X_test)\n",
        "  error_rate.append(np.mean(pred != y_test))"
      ],
      "metadata": {
        "id": "OEkVPueBoMbe"
      },
      "execution_count": 86,
      "outputs": []
    },
    {
      "cell_type": "code",
      "source": [
        "# Plotting the erro rates versus the n_neighbour values to see which n neighbour gets the lowest error rate\n",
        "\n",
        "# Plotting using matplotlibt error rates vs n_neighbour values\n",
        "plt.figure(figsize= (10, 6))\n",
        "plt.plot(range(1, 75), error_rate, color = 'red', linestyle='dashed', \n",
        "         marker = 'o', markerfacecolor = 'green', markersize = 11)\n",
        "plt.title('error rate vs n_neighbor values')\n",
        "plt.xlabel('n_neighbor values')\n",
        "plt.ylabel('error rate')\n"
      ],
      "metadata": {
        "colab": {
          "base_uri": "https://localhost:8080/",
          "height": 423
        },
        "id": "sGby1myioRVt",
        "outputId": "523dc440-4b2b-4f08-b776-74b8d3498cde"
      },
      "execution_count": 87,
      "outputs": [
        {
          "output_type": "execute_result",
          "data": {
            "text/plain": [
              "Text(0, 0.5, 'error rate')"
            ]
          },
          "metadata": {},
          "execution_count": 87
        },
        {
          "output_type": "display_data",
          "data": {
            "text/plain": [
              "<Figure size 720x432 with 1 Axes>"
            ],
            "image/png": "[encoded data removed]"
          },
          "metadata": {
            "needs_background": "light"
          }
        }
      ]
    },
    {
      "cell_type": "code",
      "source": [
        "# Calculate optimum n_neighbour value from graph\n",
        "optimum_neighbour_val = error_rate.index(min(error_rate))+1\n",
        "\n",
        "# Print minimum error rate and optimum n_neigbour value\n",
        "print(f'minimum error rate: {min(error_rate)}, optimum n_neighbour value: {optimum_neighbour_val}')"
      ],
      "metadata": {
        "colab": {
          "base_uri": "https://localhost:8080/"
        },
        "id": "ssL3f_yJoRId",
        "outputId": "5189dc78-d6ff-4feb-c1bd-b2a4c0040f56"
      },
      "execution_count": 88,
      "outputs": [
        {
          "output_type": "stream",
          "name": "stdout",
          "text": [
            "minimum error rate: 0.16246498599439776, optimum n_neighbour value: 10\n"
          ]
        }
      ]
    },
    {
      "cell_type": "code",
      "source": [
        "# Creating the KNN model with; 60% of data as train set\n",
        "# N_neighbours values = 10\n",
        "\n",
        "knn3 = KNeighborsClassifier(n_neighbors=optimum_neighbour_val)\n",
        "knn3.fit(X_train, y_train)"
      ],
      "metadata": {
        "colab": {
          "base_uri": "https://localhost:8080/"
        },
        "id": "GTySW8l0oadQ",
        "outputId": "1fa259d9-74f4-4b8e-f541-7e14e568b53d"
      },
      "execution_count": 89,
      "outputs": [
        {
          "output_type": "execute_result",
          "data": {
            "text/plain": [
              "KNeighborsClassifier(n_neighbors=10)"
            ]
          },
          "metadata": {},
          "execution_count": 89
        }
      ]
    },
    {
      "cell_type": "code",
      "source": [
        "# Making predictions from the test set\n",
        "#\n",
        "pred = knn3.predict(X_test)"
      ],
      "metadata": {
        "id": "StpfbcAZojZx"
      },
      "execution_count": 90,
      "outputs": []
    },
    {
      "cell_type": "code",
      "source": [
        "# Evaluating the alghorithim\n",
        "# The metrcs to evaluate the algohrithim will be the confusion matrix, f1_score, recall, and precision\n",
        "\n",
        "# Importing confusion matrix from sklearn metrics library\n",
        "from sklearn.metrics import confusion_matrix\n",
        "\n",
        "# Confusion matrix\n",
        "print(confusion_matrix(y_test, pred))"
      ],
      "metadata": {
        "colab": {
          "base_uri": "https://localhost:8080/"
        },
        "id": "t-MZKizyomr3",
        "outputId": "c791c863-6c6e-4b98-cdb2-ba31462c4b00"
      },
      "execution_count": 91,
      "outputs": [
        {
          "output_type": "stream",
          "name": "stdout",
          "text": [
            "[[204   7]\n",
            " [ 51  95]]\n"
          ]
        }
      ]
    },
    {
      "cell_type": "markdown",
      "source": [
        "Confusion matrix interpretation:\n",
        "\n",
        "1. True positive = 204\n",
        "2. True Negative = 95\n",
        "3. False positive = 51\n",
        "4. False negative = 7"
      ],
      "metadata": {
        "id": "4PKiY5c2osaR"
      }
    },
    {
      "cell_type": "code",
      "source": [
        "# Importing classification report from sklearn metrics library\n",
        "from sklearn.metrics import classification_report\n",
        "\n",
        "# Printing out the classification report of the alghorithim\n",
        "print(classification_report(y_test, pred))"
      ],
      "metadata": {
        "colab": {
          "base_uri": "https://localhost:8080/"
        },
        "id": "dN13jfPsomo1",
        "outputId": "45b7e2e8-5dc3-4722-f803-c505ff5c51e6"
      },
      "execution_count": 92,
      "outputs": [
        {
          "output_type": "stream",
          "name": "stdout",
          "text": [
            "              precision    recall  f1-score   support\n",
            "\n",
            "           0       0.80      0.97      0.88       211\n",
            "           1       0.93      0.65      0.77       146\n",
            "\n",
            "    accuracy                           0.84       357\n",
            "   macro avg       0.87      0.81      0.82       357\n",
            "weighted avg       0.85      0.84      0.83       357\n",
            "\n"
          ]
        }
      ]
    },
    {
      "cell_type": "markdown",
      "source": [
        "The model had an accuracy score of 0.84 which was higher than the subsequent models(KNN model 1 and KNN model 2)\n",
        "\n",
        "It performed really well in predicting passengers that survived compare to predicting passengers that did not. However its precision in both instances was compareable or even higher than those obatined in the subsequent two models\n",
        "\n",
        "The model had a poor recall in the prediction of passengers that survived\n",
        "\n",
        "In general, from the f1_score, the KNN model using 60% of the data in the train and 40% in the test with 10 n_neighbours performed a lot better predicting passengers that did survived compared to those that perished\n",
        "\n",
        "KNN Model 3 performed better than KNN model 1 and KNN model 2."
      ],
      "metadata": {
        "id": "eI9R0bqZo_ye"
      }
    },
    {
      "cell_type": "markdown",
      "source": [
        "Model 1 using 80% training data and 20% test data had the best performance. This shall be used to make predictions on the test dataset"
      ],
      "metadata": {
        "id": "jNHvXBeuqDB1"
      }
    },
    {
      "cell_type": "markdown",
      "source": [
        "### KNN Model 4 (20% train 80% test)"
      ],
      "metadata": {
        "id": "WcDYEgETcChv"
      }
    },
    {
      "cell_type": "code",
      "source": [
        "# Splitting the target and feature variables  to get 20% of the data used in training the \n",
        "# Model and 80% of the data to tests the model performance\n",
        "\n",
        "# Train test split\n",
        "X_train, X_test, y_train, y_test = train_test_split(X, y, test_size=0.80)"
      ],
      "metadata": {
        "id": "3wgv-kX5cJFY"
      },
      "execution_count": 99,
      "outputs": []
    },
    {
      "cell_type": "code",
      "source": [
        "# Feature scaling\n",
        "# The feature variables are scaled to ensure that they are all uniformly evaluated\n",
        "\n",
        "# Specifying the standard scalar\n",
        "scaler = StandardScaler()\n",
        "\n",
        "# Fitting the X train data to the scaler\n",
        "scaler.fit(X_train)\n"
      ],
      "metadata": {
        "colab": {
          "base_uri": "https://localhost:8080/"
        },
        "id": "5RUxuMyScKDq",
        "outputId": "8d880676-0f68-4a18-c07f-4ed40c427d11"
      },
      "execution_count": 100,
      "outputs": [
        {
          "output_type": "execute_result",
          "data": {
            "text/plain": [
              "StandardScaler()"
            ]
          },
          "metadata": {},
          "execution_count": 100
        }
      ]
    },
    {
      "cell_type": "code",
      "source": [
        "# Scaler transformation of the x train data\n",
        "X_train = scaler.transform(X_train)\n",
        "\n",
        "# Scaler transformation  of th x_test data\n",
        "X_test = scaler.transform(X_test)"
      ],
      "metadata": {
        "id": "sIPSslr5cJrZ"
      },
      "execution_count": 101,
      "outputs": []
    },
    {
      "cell_type": "code",
      "source": [
        "# Finding optimum n_neighbours in a range from (1-75) n_neighbours\n",
        "# This shall be done by estimiating the error rate for the different n_neighbours\n",
        "\n",
        "# Defining empty error rate list\n",
        "error_rate = []\n",
        "\n",
        "# Finding error rates for the different values of n_neighbours\n",
        "for i in range(1,75):\n",
        "  knn3 = KNeighborsClassifier(n_neighbors=i)\n",
        "  knn3.fit(X_train, y_train)\n",
        "  pred = knn3.predict(X_test)\n",
        "  error_rate.append(np.mean(pred != y_test))"
      ],
      "metadata": {
        "id": "wE8fpgDxcJjh"
      },
      "execution_count": 102,
      "outputs": []
    },
    {
      "cell_type": "code",
      "source": [
        "# Plotting the erro rates versus the n_neighbour values to see which n neighbour gets the lowest error rate\n",
        "\n",
        "# Plotting using matplotlibt error rates vs n_neighbour values\n",
        "plt.figure(figsize= (10, 6))\n",
        "plt.plot(range(1, 75), error_rate, color = 'red', linestyle='dashed', \n",
        "         marker = 'o', markerfacecolor = 'green', markersize = 11)\n",
        "plt.title('error rate vs n_neighbor values')\n",
        "plt.xlabel('n_neighbor values')\n",
        "plt.ylabel('error rate')\n"
      ],
      "metadata": {
        "colab": {
          "base_uri": "https://localhost:8080/",
          "height": 423
        },
        "id": "i1C_c8iTcXSV",
        "outputId": "71c7f9b6-1714-4e2f-9cc1-60d80ce73404"
      },
      "execution_count": 103,
      "outputs": [
        {
          "output_type": "execute_result",
          "data": {
            "text/plain": [
              "Text(0, 0.5, 'error rate')"
            ]
          },
          "metadata": {},
          "execution_count": 103
        },
        {
          "output_type": "display_data",
          "data": {
            "text/plain": [
              "<Figure size 720x432 with 1 Axes>"
            ],
            "image/png": "[encoded data removed]"
          },
          "metadata": {
            "needs_background": "light"
          }
        }
      ]
    },
    {
      "cell_type": "code",
      "source": [
        "# Calculate optimum n_neighbour value from graph\n",
        "optimum_neighbour_val = error_rate.index(min(error_rate))+1\n",
        "\n",
        "# Print minimum error rate and optimum n_neigbour value\n",
        "print(f'minimum error rate: {min(error_rate)}, optimum n_neighbour value: {optimum_neighbour_val}')"
      ],
      "metadata": {
        "colab": {
          "base_uri": "https://localhost:8080/"
        },
        "id": "RnT_SKAKcbuU",
        "outputId": "6a6f4a61-090f-4597-aaed-ea778769f091"
      },
      "execution_count": 104,
      "outputs": [
        {
          "output_type": "stream",
          "name": "stdout",
          "text": [
            "minimum error rate: 0.18373071528751753, optimum n_neighbour value: 9\n"
          ]
        }
      ]
    },
    {
      "cell_type": "code",
      "source": [
        "# Creating the KNN model with; 60% of data as train set\n",
        "# N_neighbours values = 9\n",
        "\n",
        "knn3 = KNeighborsClassifier(n_neighbors=optimum_neighbour_val)\n",
        "knn3.fit(X_train, y_train)"
      ],
      "metadata": {
        "colab": {
          "base_uri": "https://localhost:8080/"
        },
        "id": "gdyel8YxcbhI",
        "outputId": "5b12dc25-d980-4919-f212-f367e3686c9b"
      },
      "execution_count": 105,
      "outputs": [
        {
          "output_type": "execute_result",
          "data": {
            "text/plain": [
              "KNeighborsClassifier(n_neighbors=9)"
            ]
          },
          "metadata": {},
          "execution_count": 105
        }
      ]
    },
    {
      "cell_type": "code",
      "source": [
        "# Making predictions from the test set\n",
        "#\n",
        "pred = knn3.predict(X_test)"
      ],
      "metadata": {
        "id": "UTvIDw-qcieW"
      },
      "execution_count": 106,
      "outputs": []
    },
    {
      "cell_type": "code",
      "source": [
        "# Evaluating the alghorithim\n",
        "# The metrcs to evaluate the algohrithim will be the confusion matrix, f1_score, recall, and precision\n",
        "\n",
        "# Importing confusion matrix from sklearn metrics library\n",
        "from sklearn.metrics import confusion_matrix\n",
        "\n",
        "# Confusion matrix\n",
        "print(confusion_matrix(y_test, pred))"
      ],
      "metadata": {
        "colab": {
          "base_uri": "https://localhost:8080/"
        },
        "id": "mXPbcyE7cmXa",
        "outputId": "0457704e-4c37-4722-960f-53ba2570da63"
      },
      "execution_count": 107,
      "outputs": [
        {
          "output_type": "stream",
          "name": "stdout",
          "text": [
            "[[383  54]\n",
            " [ 77 199]]\n"
          ]
        }
      ]
    },
    {
      "cell_type": "markdown",
      "source": [
        "Confusion matrix interpretation:\n",
        "\n",
        "1. True positive = 383\n",
        "2. True Negative = 199\n",
        "3. False positive = 77\n",
        "4. False negative = 54"
      ],
      "metadata": {
        "id": "2o2pRO_MctVr"
      }
    },
    {
      "cell_type": "code",
      "source": [
        "# Importing classification report from sklearn metrics library\n",
        "from sklearn.metrics import classification_report\n",
        "\n",
        "# Printing out the classification report of the alghorithim\n",
        "print(classification_report(y_test, pred))"
      ],
      "metadata": {
        "colab": {
          "base_uri": "https://localhost:8080/"
        },
        "id": "5sgrCNyxcpsG",
        "outputId": "d6b8aa7a-ea92-430d-bcee-fc2b71f4a12b"
      },
      "execution_count": 108,
      "outputs": [
        {
          "output_type": "stream",
          "name": "stdout",
          "text": [
            "              precision    recall  f1-score   support\n",
            "\n",
            "           0       0.83      0.88      0.85       437\n",
            "           1       0.79      0.72      0.75       276\n",
            "\n",
            "    accuracy                           0.82       713\n",
            "   macro avg       0.81      0.80      0.80       713\n",
            "weighted avg       0.81      0.82      0.81       713\n",
            "\n"
          ]
        }
      ]
    },
    {
      "cell_type": "markdown",
      "source": [
        "Reducing the training dataset significantly to 20% of the total data, the accuracy remained similar to the other KNN models using 60%, 70%, 80% of the data \n",
        "\n",
        "Had a  accuracy score of 82%"
      ],
      "metadata": {
        "id": "NCAOe1ENc1Zm"
      }
    },
    {
      "cell_type": "markdown",
      "source": [
        "## Challenging Solution"
      ],
      "metadata": {
        "id": "26w-gP6uqatm"
      }
    },
    {
      "cell_type": "markdown",
      "source": [
        "The solution shall be challenged using a random forest classifier with its default hyper parameters. \n",
        "\n",
        "The train set shall use up 60% the data in line with the best performing KNN model"
      ],
      "metadata": {
        "id": "Y08SpzYUZGOE"
      }
    },
    {
      "cell_type": "code",
      "source": [
        "# Random forest classifier model\n",
        "# defining the model with default hyperparameters\n",
        "forest = RandomForestClassifier()\n",
        "\n",
        "# Train it on our training set.\n",
        "model = forest.fit(X_train, y_train)\n"
      ],
      "metadata": {
        "id": "VbG_AGhUqqmI"
      },
      "execution_count": 94,
      "outputs": []
    },
    {
      "cell_type": "code",
      "source": [
        "# Predicting the target variable based on the model wusing the model we've trained\n",
        "y_pred = model.predict(X_test)"
      ],
      "metadata": {
        "id": "axnEfy7Daq2V"
      },
      "execution_count": 95,
      "outputs": []
    },
    {
      "cell_type": "code",
      "source": [
        "# Evaluating the alghorithim\n",
        "# The metrcs to evaluate the algohrithim will be the confusion matrix, f1_score, recall, and precision\n",
        "\n",
        "# Importing confusion matrix from sklearn metrics library\n",
        "from sklearn.metrics import confusion_matrix\n",
        "\n",
        "# Confusion matrix\n",
        "print(confusion_matrix(y_test, y_pred))"
      ],
      "metadata": {
        "colab": {
          "base_uri": "https://localhost:8080/"
        },
        "id": "gjUW_84Qaxlz",
        "outputId": "a0ad8881-a23a-418a-fd3a-60f912e0b910"
      },
      "execution_count": 96,
      "outputs": [
        {
          "output_type": "stream",
          "name": "stdout",
          "text": [
            "[[181  30]\n",
            " [ 45 101]]\n"
          ]
        }
      ]
    },
    {
      "cell_type": "markdown",
      "source": [
        "Confusion matrix interpretation:\n",
        "\n",
        "1. True positive = 181\n",
        "2. True Negative = 101\n",
        "3. False positive = 45\n",
        "4. False negative = 30"
      ],
      "metadata": {
        "id": "OQh0rocya9Yf"
      }
    },
    {
      "cell_type": "code",
      "source": [
        "# Importing classification report from sklearn metrics library\n",
        "from sklearn.metrics import classification_report\n",
        "\n",
        "# Printing out the classification report of the alghorithim\n",
        "print(classification_report(y_test, y_pred))"
      ],
      "metadata": {
        "colab": {
          "base_uri": "https://localhost:8080/"
        },
        "id": "QMaxrEfda8uA",
        "outputId": "5f9b57b9-1466-46b3-db59-26f5ae555068"
      },
      "execution_count": 98,
      "outputs": [
        {
          "output_type": "stream",
          "name": "stdout",
          "text": [
            "              precision    recall  f1-score   support\n",
            "\n",
            "           0       0.80      0.86      0.83       211\n",
            "           1       0.77      0.69      0.73       146\n",
            "\n",
            "    accuracy                           0.79       357\n",
            "   macro avg       0.79      0.77      0.78       357\n",
            "weighted avg       0.79      0.79      0.79       357\n",
            "\n"
          ]
        }
      ]
    },
    {
      "cell_type": "markdown",
      "source": [
        "Random classifier model with default parameters, using 60% of the data in training the model achieved a lower performance metrics than all three KNN models\n",
        "\n"
      ],
      "metadata": {
        "id": "gT_u1JZgbG-I"
      }
    },
    {
      "cell_type": "markdown",
      "source": [
        "## Conclusion"
      ],
      "metadata": {
        "id": "cYbwtTfzq79O"
      }
    },
    {
      "cell_type": "markdown",
      "source": [
        "In conclusion:\n",
        "- The ammount of data used to train the model be it 20%, 50%, 80% did not affect the lower or increase the performance metrics of the models significantly. It hence can be concluded that that the ammount of data used to train a KNN model in a dataset with many records does not affect the perfomance metrics of the model\n",
        "\n",
        "- KNN model is more robust compared to a random forest classifier in the titanic dataset"
      ],
      "metadata": {
        "id": "y0xtA1Mvb5dK"
      }
    },
    {
      "cell_type": "markdown",
      "source": [
        "## Follow up questions"
      ],
      "metadata": {
        "id": "xl0uBkNyqrtg"
      }
    },
    {
      "cell_type": "markdown",
      "source": [
        "1. Did we have the right data?\n",
        "\n",
        "Yes, \n",
        "\n",
        "for this machine learning problem of comparing KNN models with different ammounts of data to train the model.\n",
        "\n",
        "2. Do we need other data to to answer our question?\n",
        "No. \n",
        "\n",
        "Titanic dataset was able to full achiev the set objectives\n",
        "\n",
        "However to compare KNN to other models, different classification problems need to be explored to arrive at a robust conclusion\n",
        "\n",
        "\n",
        "3. Do we have the right questions?\n",
        "Yes"
      ],
      "metadata": {
        "id": "Ji8CXms4er_P"
      }
    },
    {
      "cell_type": "code",
      "source": [
        ""
      ],
      "metadata": {
        "id": "asrm9G6HquKd"
      },
      "execution_count": null,
      "outputs": []
    }
  ]
}